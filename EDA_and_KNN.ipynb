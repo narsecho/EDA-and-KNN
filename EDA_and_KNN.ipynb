{
  "nbformat": 4,
  "nbformat_minor": 0,
  "metadata": {
    "colab": {
      "name": "EDA and KNN.ipynb",
      "provenance": [],
      "collapsed_sections": []
    },
    "kernelspec": {
      "display_name": "Python 3",
      "name": "python3"
    }
  },
  "cells": [
    {
      "cell_type": "code",
      "metadata": {
        "colab": {
          "base_uri": "https://localhost:8080/",
          "height": 39
        },
        "id": "lDdIon21FfHn",
        "outputId": "5e444fca-a9ae-40a3-9f49-e17e4ce931d5"
      },
      "source": [
        "%%html\n",
        "<marquee style='width: 30%; color: yellow;'><b>EDA & KNN</b></marquee>"
      ],
      "execution_count": 2,
      "outputs": [
        {
          "output_type": "display_data",
          "data": {
            "text/html": [
              "<marquee style='width: 30%; color: yellow;'><b>EDA & KNN</b></marquee>"
            ],
            "text/plain": [
              "<IPython.core.display.HTML object>"
            ]
          },
          "metadata": {}
        }
      ]
    },
    {
      "cell_type": "markdown",
      "metadata": {
        "id": "JyG45Qk3qQLS"
      },
      "source": [
        "Display the number M of cases = number of numerical rows;\n",
        "each case is recorded by one row;\n",
        "mpg = miles per gallon will be the target or response variable ;\n",
        "the data table displays one column of M values for mpg and 5 columns of M values for the 5 explanatory variables or features\n",
        "features will be denoted by F1= cyl, F2= dis, F3= hor, F4= wei, F5= acc"
      ]
    },
    {
      "cell_type": "code",
      "metadata": {
        "colab": {
          "base_uri": "https://localhost:8080/"
        },
        "id": "ddDCzLmT9Vys",
        "outputId": "977a5bcf-1c41-4776-f70a-fb3d139535f1"
      },
      "source": [
        "from google.colab import drive\n",
        "drive.mount('/content/drive')"
      ],
      "execution_count": null,
      "outputs": [
        {
          "output_type": "stream",
          "name": "stdout",
          "text": [
            "Drive already mounted at /content/drive; to attempt to forcibly remount, call drive.mount(\"/content/drive\", force_remount=True).\n"
          ]
        }
      ]
    },
    {
      "cell_type": "code",
      "metadata": {
        "cellView": "both",
        "id": "WUtu4316QSHL"
      },
      "source": [
        "import pandas as pd\n",
        "import seaborn as sns\n",
        "import matplotlib.pyplot as plt\n",
        "import numpy as np"
      ],
      "execution_count": null,
      "outputs": []
    },
    {
      "cell_type": "code",
      "metadata": {
        "colab": {
          "base_uri": "https://localhost:8080/",
          "height": 204
        },
        "id": "yD9YqC8fLSOT",
        "outputId": "19915111-79bb-4741-fdb8-e3ce083c088f"
      },
      "source": [
        "df=pd.read_csv('/content/drive/MyDrive/knn/DataAuto.csv')\n",
        "df.head()"
      ],
      "execution_count": null,
      "outputs": [
        {
          "output_type": "execute_result",
          "data": {
            "text/html": [
              "<div>\n",
              "<style scoped>\n",
              "    .dataframe tbody tr th:only-of-type {\n",
              "        vertical-align: middle;\n",
              "    }\n",
              "\n",
              "    .dataframe tbody tr th {\n",
              "        vertical-align: top;\n",
              "    }\n",
              "\n",
              "    .dataframe thead th {\n",
              "        text-align: right;\n",
              "    }\n",
              "</style>\n",
              "<table border=\"1\" class=\"dataframe\">\n",
              "  <thead>\n",
              "    <tr style=\"text-align: right;\">\n",
              "      <th></th>\n",
              "      <th>mpg</th>\n",
              "      <th>cylinders</th>\n",
              "      <th>displacement</th>\n",
              "      <th>horsepower</th>\n",
              "      <th>weight</th>\n",
              "      <th>acceleration</th>\n",
              "    </tr>\n",
              "  </thead>\n",
              "  <tbody>\n",
              "    <tr>\n",
              "      <th>0</th>\n",
              "      <td>18.0</td>\n",
              "      <td>8</td>\n",
              "      <td>307.0</td>\n",
              "      <td>130</td>\n",
              "      <td>3504</td>\n",
              "      <td>12.0</td>\n",
              "    </tr>\n",
              "    <tr>\n",
              "      <th>1</th>\n",
              "      <td>15.0</td>\n",
              "      <td>8</td>\n",
              "      <td>350.0</td>\n",
              "      <td>165</td>\n",
              "      <td>3693</td>\n",
              "      <td>11.5</td>\n",
              "    </tr>\n",
              "    <tr>\n",
              "      <th>2</th>\n",
              "      <td>18.0</td>\n",
              "      <td>8</td>\n",
              "      <td>318.0</td>\n",
              "      <td>150</td>\n",
              "      <td>3436</td>\n",
              "      <td>11.0</td>\n",
              "    </tr>\n",
              "    <tr>\n",
              "      <th>3</th>\n",
              "      <td>16.0</td>\n",
              "      <td>8</td>\n",
              "      <td>304.0</td>\n",
              "      <td>150</td>\n",
              "      <td>3433</td>\n",
              "      <td>12.0</td>\n",
              "    </tr>\n",
              "    <tr>\n",
              "      <th>4</th>\n",
              "      <td>17.0</td>\n",
              "      <td>8</td>\n",
              "      <td>302.0</td>\n",
              "      <td>140</td>\n",
              "      <td>3449</td>\n",
              "      <td>10.5</td>\n",
              "    </tr>\n",
              "  </tbody>\n",
              "</table>\n",
              "</div>"
            ],
            "text/plain": [
              "    mpg  cylinders  displacement  horsepower  weight  acceleration\n",
              "0  18.0          8         307.0         130    3504          12.0\n",
              "1  15.0          8         350.0         165    3693          11.5\n",
              "2  18.0          8         318.0         150    3436          11.0\n",
              "3  16.0          8         304.0         150    3433          12.0\n",
              "4  17.0          8         302.0         140    3449          10.5"
            ]
          },
          "metadata": {},
          "execution_count": 36
        }
      ]
    },
    {
      "cell_type": "code",
      "metadata": {
        "colab": {
          "base_uri": "https://localhost:8080/"
        },
        "id": "RKHPazO-Pmms",
        "outputId": "2e94ee20-45a5-4d68-9b28-c1f49697fd03"
      },
      "source": [
        "#Display the number M of cases = number of numerical rows\n",
        "M=len(df)\n",
        "M"
      ],
      "execution_count": null,
      "outputs": [
        {
          "output_type": "execute_result",
          "data": {
            "text/plain": [
              "392"
            ]
          },
          "metadata": {},
          "execution_count": 37
        }
      ]
    },
    {
      "cell_type": "code",
      "metadata": {
        "colab": {
          "base_uri": "https://localhost:8080/"
        },
        "id": "_rMGlaelgX5L",
        "outputId": "03954e41-11a3-401a-ad42-297c07276d43"
      },
      "source": [
        "df['mpg'].max()"
      ],
      "execution_count": null,
      "outputs": [
        {
          "output_type": "execute_result",
          "data": {
            "text/plain": [
              "46.6"
            ]
          },
          "metadata": {},
          "execution_count": 38
        }
      ]
    },
    {
      "cell_type": "code",
      "metadata": {
        "colab": {
          "base_uri": "https://localhost:8080/"
        },
        "id": "ftiqfFcjgfJ7",
        "outputId": "8563b0e8-2652-481d-d50f-4d7f5a884948"
      },
      "source": [
        "df['mpg'].min()"
      ],
      "execution_count": null,
      "outputs": [
        {
          "output_type": "execute_result",
          "data": {
            "text/plain": [
              "9.0"
            ]
          },
          "metadata": {},
          "execution_count": 39
        }
      ]
    },
    {
      "cell_type": "code",
      "metadata": {
        "id": "gFUZ7sAIgif4",
        "colab": {
          "base_uri": "https://localhost:8080/"
        },
        "outputId": "76992024-574e-47cf-8b2a-f2aac93d1738"
      },
      "source": [
        "mpg_outlier=np.mean(df['mpg'])+2*np.std(df['mpg'])\n",
        "mpg_outlier"
      ],
      "execution_count": null,
      "outputs": [
        {
          "output_type": "execute_result",
          "data": {
            "text/plain": [
              "39.03600989271211"
            ]
          },
          "metadata": {},
          "execution_count": 40
        }
      ]
    },
    {
      "cell_type": "code",
      "metadata": {
        "colab": {
          "base_uri": "https://localhost:8080/"
        },
        "id": "pATnF2GMhnXY",
        "outputId": "6086684e-9fb4-4587-bdea-116d475d1b75"
      },
      "source": [
        "mpg_outlier_l=np.mean(df['mpg'])-2*np.std(df['mpg'])\n",
        "mpg_outlier_l"
      ],
      "execution_count": null,
      "outputs": [
        {
          "output_type": "execute_result",
          "data": {
            "text/plain": [
              "7.855826841981774"
            ]
          },
          "metadata": {},
          "execution_count": 41
        }
      ]
    },
    {
      "cell_type": "code",
      "metadata": {
        "colab": {
          "base_uri": "https://localhost:8080/",
          "height": 359
        },
        "id": "EGgUc5qzhDn0",
        "outputId": "e801350f-0916-488e-9ddb-85624d39aad0"
      },
      "source": [
        "df_outlier=df[df[\"mpg\"]>mpg_outlier]\n",
        "df_outlier"
      ],
      "execution_count": null,
      "outputs": [
        {
          "output_type": "execute_result",
          "data": {
            "text/html": [
              "<div>\n",
              "<style scoped>\n",
              "    .dataframe tbody tr th:only-of-type {\n",
              "        vertical-align: middle;\n",
              "    }\n",
              "\n",
              "    .dataframe tbody tr th {\n",
              "        vertical-align: top;\n",
              "    }\n",
              "\n",
              "    .dataframe thead th {\n",
              "        text-align: right;\n",
              "    }\n",
              "</style>\n",
              "<table border=\"1\" class=\"dataframe\">\n",
              "  <thead>\n",
              "    <tr style=\"text-align: right;\">\n",
              "      <th></th>\n",
              "      <th>mpg</th>\n",
              "      <th>cylinders</th>\n",
              "      <th>displacement</th>\n",
              "      <th>horsepower</th>\n",
              "      <th>weight</th>\n",
              "      <th>acceleration</th>\n",
              "    </tr>\n",
              "  </thead>\n",
              "  <tbody>\n",
              "    <tr>\n",
              "      <th>242</th>\n",
              "      <td>43.1</td>\n",
              "      <td>4</td>\n",
              "      <td>90.0</td>\n",
              "      <td>48</td>\n",
              "      <td>1985</td>\n",
              "      <td>21.5</td>\n",
              "    </tr>\n",
              "    <tr>\n",
              "      <th>245</th>\n",
              "      <td>39.4</td>\n",
              "      <td>4</td>\n",
              "      <td>85.0</td>\n",
              "      <td>70</td>\n",
              "      <td>2070</td>\n",
              "      <td>18.6</td>\n",
              "    </tr>\n",
              "    <tr>\n",
              "      <th>307</th>\n",
              "      <td>41.5</td>\n",
              "      <td>4</td>\n",
              "      <td>98.0</td>\n",
              "      <td>76</td>\n",
              "      <td>2144</td>\n",
              "      <td>14.7</td>\n",
              "    </tr>\n",
              "    <tr>\n",
              "      <th>320</th>\n",
              "      <td>46.6</td>\n",
              "      <td>4</td>\n",
              "      <td>86.0</td>\n",
              "      <td>65</td>\n",
              "      <td>2110</td>\n",
              "      <td>17.9</td>\n",
              "    </tr>\n",
              "    <tr>\n",
              "      <th>322</th>\n",
              "      <td>40.8</td>\n",
              "      <td>4</td>\n",
              "      <td>85.0</td>\n",
              "      <td>65</td>\n",
              "      <td>2110</td>\n",
              "      <td>19.2</td>\n",
              "    </tr>\n",
              "    <tr>\n",
              "      <th>323</th>\n",
              "      <td>44.3</td>\n",
              "      <td>4</td>\n",
              "      <td>90.0</td>\n",
              "      <td>48</td>\n",
              "      <td>2085</td>\n",
              "      <td>21.7</td>\n",
              "    </tr>\n",
              "    <tr>\n",
              "      <th>324</th>\n",
              "      <td>43.4</td>\n",
              "      <td>4</td>\n",
              "      <td>90.0</td>\n",
              "      <td>48</td>\n",
              "      <td>2335</td>\n",
              "      <td>23.7</td>\n",
              "    </tr>\n",
              "    <tr>\n",
              "      <th>327</th>\n",
              "      <td>44.6</td>\n",
              "      <td>4</td>\n",
              "      <td>91.0</td>\n",
              "      <td>67</td>\n",
              "      <td>1850</td>\n",
              "      <td>13.8</td>\n",
              "    </tr>\n",
              "    <tr>\n",
              "      <th>339</th>\n",
              "      <td>39.1</td>\n",
              "      <td>4</td>\n",
              "      <td>79.0</td>\n",
              "      <td>58</td>\n",
              "      <td>1755</td>\n",
              "      <td>16.9</td>\n",
              "    </tr>\n",
              "    <tr>\n",
              "      <th>388</th>\n",
              "      <td>44.0</td>\n",
              "      <td>4</td>\n",
              "      <td>97.0</td>\n",
              "      <td>52</td>\n",
              "      <td>2130</td>\n",
              "      <td>24.6</td>\n",
              "    </tr>\n",
              "  </tbody>\n",
              "</table>\n",
              "</div>"
            ],
            "text/plain": [
              "      mpg  cylinders  displacement  horsepower  weight  acceleration\n",
              "242  43.1          4          90.0          48    1985          21.5\n",
              "245  39.4          4          85.0          70    2070          18.6\n",
              "307  41.5          4          98.0          76    2144          14.7\n",
              "320  46.6          4          86.0          65    2110          17.9\n",
              "322  40.8          4          85.0          65    2110          19.2\n",
              "323  44.3          4          90.0          48    2085          21.7\n",
              "324  43.4          4          90.0          48    2335          23.7\n",
              "327  44.6          4          91.0          67    1850          13.8\n",
              "339  39.1          4          79.0          58    1755          16.9\n",
              "388  44.0          4          97.0          52    2130          24.6"
            ]
          },
          "metadata": {},
          "execution_count": 42
        }
      ]
    },
    {
      "cell_type": "code",
      "metadata": {
        "colab": {
          "base_uri": "https://localhost:8080/"
        },
        "id": "4N3hsLtjhDcY",
        "outputId": "f61ed2d2-982a-4219-95ee-db0ee28016d0"
      },
      "source": [
        "len(df_outlier)"
      ],
      "execution_count": null,
      "outputs": [
        {
          "output_type": "execute_result",
          "data": {
            "text/plain": [
              "10"
            ]
          },
          "metadata": {},
          "execution_count": 43
        }
      ]
    },
    {
      "cell_type": "markdown",
      "metadata": {
        "id": "KR921S_OQSHG"
      },
      "source": [
        "## **Episode 1. Preliminary statistical data analysis** \n",
        "1) for each feature F compute/display its mean mF, standard deviation stdF, rangeF, 2) display the histogram histF of each feature F, and the histogram hist(mpg) of mpg\n",
        "display the probability density function (PDF) of a normal density function with mean mF and standard deviation stdF\n",
        "compare visually histF and this PDF\n",
        "3) display the 5 scatterplots (cyl , mpg) , (dis , mpg) , (hor , mpg) , (wei , mpg) , (acc , mpg)\n",
        "display the table of 5 correlations\n",
        "cor(cyl , mpg) , cor(dis , mpg) , cor(hor , mpg), cor(wei , mpg), cor(acc , mpg)\n",
        "interpret the 5 scatterplots and the table of 5 correlations to guess which features may have stronger capacity to predict msg\n",
        "4) compute the 5x5 correlation matrix CORR(Fi,Fj) of the 5 features; interpretation of that matrix\n",
        "5) Display the quantiles Q1% Q2% ... Q100% of the response variable mpg as an increasing quantile curve.\n",
        "6) compute 5 linear regressions Y= A1*F1 +B1 +errorterm ..... Y= A5*F5 +B5 +errorterm give the values of A1,B1, RMSE1 ... A5,B5, RMSE5\n",
        "this defines 5 linear predictors of Y denoted PRED1Y= A* F1 +B1 , ..... , PRED5Y= A5*F5 +B5 Compute the relative accuracies of these 5 predictors : RMSE1 / mean(Y) , ... , RMSE5 / mean(Y) display each linear graphs PREDjY versus Fj on same graph as corresponding scatterplot (Fj,Y) Interpretation of these results\n",
        "\n"
      ]
    },
    {
      "cell_type": "markdown",
      "metadata": {
        "id": "PmVoHdNvsj9f"
      },
      "source": [
        "### 1) For each feature F compute/display its mean mF, standard deviation stdF, rangeF\n"
      ]
    },
    {
      "cell_type": "code",
      "metadata": {
        "colab": {
          "base_uri": "https://localhost:8080/"
        },
        "id": "zyUMdcgHQgfa",
        "outputId": "2de93b76-162a-4c93-ab4e-47ad4334e446"
      },
      "source": [
        "#F1=cyl\n",
        "mF1=df['cylinders'].mean()\n",
        "stdF1=df['cylinders'].std()\n",
        "rangeF1=max(df['cylinders'])-min(df['cylinders'])\n",
        "print('mean value of cylineders is','%.3f'%mF1,'standard deviation of cylineders is','%.3f'%stdF1,'and the data range is''%.1f'%rangeF1)"
      ],
      "execution_count": null,
      "outputs": [
        {
          "output_type": "stream",
          "name": "stdout",
          "text": [
            "mean value of cylineders is 5.472 standard deviation of cylineders is 1.706 and the data range is5.0\n"
          ]
        }
      ]
    },
    {
      "cell_type": "code",
      "metadata": {
        "colab": {
          "base_uri": "https://localhost:8080/"
        },
        "id": "jJ_zKJHbrPtW",
        "outputId": "8272a4e7-6bcc-4af8-cb98-cd0b7c7e216f"
      },
      "source": [
        "#F2=displacement\n",
        "mF2=df['displacement'].mean()\n",
        "stdF2=df['displacement'].std()\n",
        "rangeF2=max(df['displacement'])-min(df['displacement'])\n",
        "print('mean value of displacement is','%.3f'%mF2,'standard deviation of displacement is','%.3f'%stdF2,'and the data range is ''%.1f'%rangeF2)"
      ],
      "execution_count": null,
      "outputs": [
        {
          "output_type": "stream",
          "name": "stdout",
          "text": [
            "mean value of displacement is 194.412 standard deviation of displacement is 104.644 and the data range is 387.0\n"
          ]
        }
      ]
    },
    {
      "cell_type": "code",
      "metadata": {
        "colab": {
          "base_uri": "https://localhost:8080/"
        },
        "id": "aN_3rYm5rQge",
        "outputId": "7939862a-f703-4802-bad6-7f6a91e846f0"
      },
      "source": [
        "#F3=horsepower\n",
        "mF3=df['horsepower'].mean()\n",
        "stdF3=df['horsepower'].std()\n",
        "rangeF3=max(df['horsepower'])-min(df['horsepower'])\n",
        "print('mean value of horsepower is','%.3f'%mF3,'standard deviation of horsepower is','%.3f'%stdF3,'and the data range is ''%.1f'%rangeF3)"
      ],
      "execution_count": null,
      "outputs": [
        {
          "output_type": "stream",
          "name": "stdout",
          "text": [
            "mean value of horsepower is 104.469 standard deviation of horsepower is 38.491 and the data range is 184.0\n"
          ]
        }
      ]
    },
    {
      "cell_type": "code",
      "metadata": {
        "colab": {
          "base_uri": "https://localhost:8080/"
        },
        "id": "Mt62XV4frixA",
        "outputId": "24637a00-3f90-44e2-f2a2-b69d857ce808"
      },
      "source": [
        "#F4=weight\n",
        "mF4=df['weight'].mean()\n",
        "stdF4=df['weight'].std()\n",
        "rangeF4=max(df['weight'])-min(df['weight'])\n",
        "print('mean value of weight is','%.3f'%mF4,'standard deviation of weight is','%.3f'%stdF4,'and the data range is ''%.1f'%rangeF4)"
      ],
      "execution_count": null,
      "outputs": [
        {
          "output_type": "stream",
          "name": "stdout",
          "text": [
            "mean value of weight is 2977.584 standard deviation of weight is 849.403 and the data range is 3527.0\n"
          ]
        }
      ]
    },
    {
      "cell_type": "code",
      "metadata": {
        "colab": {
          "base_uri": "https://localhost:8080/"
        },
        "id": "Ck4BW663rrOE",
        "outputId": "1914a4d1-57cb-44ae-dd2d-aa840a64b547"
      },
      "source": [
        "#F5=acceleration\n",
        "mF5=df['acceleration'].mean()\n",
        "stdF5=df['acceleration'].std()\n",
        "rangeF5=max(df['acceleration'])-min(df['acceleration'])\n",
        "print('mean value of acceleration is','%.3f'%mF5,'standard deviation of acceleration is','%.3f'%stdF5,'and the data range is','%.1f'%rangeF5)"
      ],
      "execution_count": null,
      "outputs": [
        {
          "output_type": "stream",
          "name": "stdout",
          "text": [
            "mean value of acceleration is 15.541 standard deviation of acceleration is 2.759 and the data range is 16.8\n"
          ]
        }
      ]
    },
    {
      "cell_type": "markdown",
      "metadata": {
        "id": "6B-bFBB9sl4W"
      },
      "source": [
        "###2) Display the histogram histF of each feature F, and the histogram hist(mpg) of mpg; Display the probability density function (PDF) of a normal density function with mean mF and standard deviation stdF"
      ]
    },
    {
      "cell_type": "code",
      "metadata": {
        "id": "cVp2ws3nPGw5"
      },
      "source": [
        "import numpy as np\n",
        "import pandas as pd\n",
        "import matplotlib.pyplot as plt\n",
        "from sklearn import linear_model\n",
        "from sklearn.metrics import mean_squared_error\n",
        "from scipy.stats import norm\n",
        "import math"
      ],
      "execution_count": null,
      "outputs": []
    },
    {
      "cell_type": "code",
      "metadata": {
        "colab": {
          "base_uri": "https://localhost:8080/"
        },
        "id": "N8_etTKeH1g0",
        "outputId": "ccf5c8ea-100d-4c75-92d7-5c4060fbf395"
      },
      "source": [
        "from matplotlib.pyplot import figure\n",
        "fig, ((ax0,ax1),(ax2,ax3),(ax4,ax5)) = plt.subplots(nrows=3, ncols=2)\n",
        "fig.set_size_inches(8, 6)\n",
        "#cylinders\n",
        "mu0, std0 = norm.fit(df['cylinders']) \n",
        "x0 = np.linspace(df['cylinders'].min(),df['cylinders'].max(), 100)\n",
        "ax0.hist(df['cylinders'],12,density=True,histtype='bar',alpha=0.5)\n",
        "ax0.plot(x0, norm.pdf(x0, mu0,std0))\n",
        "ax0.set_title('Cylinders Hist and PDF')\n",
        "#displacement\n",
        "mu1, std1 = norm.fit(df['displacement']) \n",
        "x1 = np.linspace(df['displacement'].min(),df['displacement'].max(), 100)\n",
        "ax1.hist(df['displacement'],12,density=True,histtype='bar',alpha=0.5)\n",
        "ax1.plot(x1, norm.pdf(x1, mu1,std1))\n",
        "ax1.set_title('Displacement Hist and PDF')\n",
        "#horsepower\n",
        "mu2, std2 = norm.fit(df['horsepower']) \n",
        "x2 = np.linspace(df['horsepower'].min(),df['horsepower'].max(), 100)\n",
        "ax2.hist(df['horsepower'],12,density=True,histtype='bar',alpha=0.5)\n",
        "ax2.plot(x2, norm.pdf(x2, mu2,std2))\n",
        "ax2.set_title('Horsepower Hist and PDF')\n",
        "#weight\n",
        "mu3, std3 = norm.fit(df['weight']) \n",
        "x3 = np.linspace(df['weight'].min(),df['weight'].max(), 100)\n",
        "ax3.hist(df['weight'],12,density=True,histtype='bar',alpha=0.5)\n",
        "ax3.plot(x3, norm.pdf(x3, mu3,std3))\n",
        "ax3.set_title('weight Hist and PDF')\n",
        "#acceleration\n",
        "mu4, std4 = norm.fit(df['acceleration']) \n",
        "x4 = np.linspace(df['acceleration'].min(),df['acceleration'].max(), 100)\n",
        "ax4.hist(df['acceleration'],12,density=True,histtype='bar',alpha=0.5)\n",
        "ax4.plot(x4, norm.pdf(x4, mu4,std4))\n",
        "ax4.set_title('Acceleration Hist and PDF')\n",
        "#mpg\n",
        "mu5, std5 = norm.fit(df['mpg']) \n",
        "x5 = np.linspace(df['mpg'].min(),df['mpg'].max(), 100)\n",
        "ax5.hist(df['mpg'],12,density=True,histtype='bar',alpha=0.5)\n",
        "ax5.plot(x5, norm.pdf(x5, mu5,std5))\n",
        "ax5.set_title('MPG Hist and PDF')\n",
        "\n",
        "fig.tight_layout()\n",
        "plt.subplots_adjust(wspace=0.3 , hspace=0.6)\n",
        "plt.show()"
      ],
      "execution_count": null,
      "outputs": [
        {
          "output_type": "display_data",
          "data": {
            "image/png": "[encoded data removed]",
            "text/plain": [
              "<Figure size 576x432 with 6 Axes>"
            ]
          },
          "metadata": {
            "needs_background": "light"
          }
        }
      ]
    },
    {
      "cell_type": "code",
      "metadata": {
        "colab": {
          "base_uri": "https://localhost:8080/"
        },
        "id": "o6Aemljxzt9R",
        "outputId": "91d943bc-0a7d-4f32-82d2-2b5118960b8d"
      },
      "source": [
        "df.iloc[:,1:6]"
      ],
      "execution_count": null,
      "outputs": [
        {
          "output_type": "execute_result",
          "data": {
            "text/html": [
              "<div>\n",
              "<style scoped>\n",
              "    .dataframe tbody tr th:only-of-type {\n",
              "        vertical-align: middle;\n",
              "    }\n",
              "\n",
              "    .dataframe tbody tr th {\n",
              "        vertical-align: top;\n",
              "    }\n",
              "\n",
              "    .dataframe thead th {\n",
              "        text-align: right;\n",
              "    }\n",
              "</style>\n",
              "<table border=\"1\" class=\"dataframe\">\n",
              "  <thead>\n",
              "    <tr style=\"text-align: right;\">\n",
              "      <th></th>\n",
              "      <th>cylinders</th>\n",
              "      <th>displacement</th>\n",
              "      <th>horsepower</th>\n",
              "      <th>weight</th>\n",
              "      <th>acceleration</th>\n",
              "    </tr>\n",
              "  </thead>\n",
              "  <tbody>\n",
              "    <tr>\n",
              "      <th>0</th>\n",
              "      <td>8</td>\n",
              "      <td>307.0</td>\n",
              "      <td>130</td>\n",
              "      <td>3504</td>\n",
              "      <td>12.0</td>\n",
              "    </tr>\n",
              "    <tr>\n",
              "      <th>1</th>\n",
              "      <td>8</td>\n",
              "      <td>350.0</td>\n",
              "      <td>165</td>\n",
              "      <td>3693</td>\n",
              "      <td>11.5</td>\n",
              "    </tr>\n",
              "    <tr>\n",
              "      <th>2</th>\n",
              "      <td>8</td>\n",
              "      <td>318.0</td>\n",
              "      <td>150</td>\n",
              "      <td>3436</td>\n",
              "      <td>11.0</td>\n",
              "    </tr>\n",
              "    <tr>\n",
              "      <th>3</th>\n",
              "      <td>8</td>\n",
              "      <td>304.0</td>\n",
              "      <td>150</td>\n",
              "      <td>3433</td>\n",
              "      <td>12.0</td>\n",
              "    </tr>\n",
              "    <tr>\n",
              "      <th>4</th>\n",
              "      <td>8</td>\n",
              "      <td>302.0</td>\n",
              "      <td>140</td>\n",
              "      <td>3449</td>\n",
              "      <td>10.5</td>\n",
              "    </tr>\n",
              "    <tr>\n",
              "      <th>...</th>\n",
              "      <td>...</td>\n",
              "      <td>...</td>\n",
              "      <td>...</td>\n",
              "      <td>...</td>\n",
              "      <td>...</td>\n",
              "    </tr>\n",
              "    <tr>\n",
              "      <th>387</th>\n",
              "      <td>4</td>\n",
              "      <td>140.0</td>\n",
              "      <td>86</td>\n",
              "      <td>2790</td>\n",
              "      <td>15.6</td>\n",
              "    </tr>\n",
              "    <tr>\n",
              "      <th>388</th>\n",
              "      <td>4</td>\n",
              "      <td>97.0</td>\n",
              "      <td>52</td>\n",
              "      <td>2130</td>\n",
              "      <td>24.6</td>\n",
              "    </tr>\n",
              "    <tr>\n",
              "      <th>389</th>\n",
              "      <td>4</td>\n",
              "      <td>135.0</td>\n",
              "      <td>84</td>\n",
              "      <td>2295</td>\n",
              "      <td>11.6</td>\n",
              "    </tr>\n",
              "    <tr>\n",
              "      <th>390</th>\n",
              "      <td>4</td>\n",
              "      <td>120.0</td>\n",
              "      <td>79</td>\n",
              "      <td>2625</td>\n",
              "      <td>18.6</td>\n",
              "    </tr>\n",
              "    <tr>\n",
              "      <th>391</th>\n",
              "      <td>4</td>\n",
              "      <td>119.0</td>\n",
              "      <td>82</td>\n",
              "      <td>2720</td>\n",
              "      <td>19.4</td>\n",
              "    </tr>\n",
              "  </tbody>\n",
              "</table>\n",
              "<p>392 rows × 5 columns</p>\n",
              "</div>"
            ],
            "text/plain": [
              "     cylinders  displacement  horsepower  weight  acceleration\n",
              "0            8         307.0         130    3504          12.0\n",
              "1            8         350.0         165    3693          11.5\n",
              "2            8         318.0         150    3436          11.0\n",
              "3            8         304.0         150    3433          12.0\n",
              "4            8         302.0         140    3449          10.5\n",
              "..         ...           ...         ...     ...           ...\n",
              "387          4         140.0          86    2790          15.6\n",
              "388          4          97.0          52    2130          24.6\n",
              "389          4         135.0          84    2295          11.6\n",
              "390          4         120.0          79    2625          18.6\n",
              "391          4         119.0          82    2720          19.4\n",
              "\n",
              "[392 rows x 5 columns]"
            ]
          },
          "metadata": {},
          "execution_count": 51
        }
      ]
    },
    {
      "cell_type": "markdown",
      "metadata": {
        "id": "Id6tDF1HQSHD"
      },
      "source": [
        "### 3) Display the 5 scatterplots (cyl , mpg) , (dis , mpg) , (hor , mpg) , (wei , mpg) , (acc , mpg)\n",
        "\n",
        "Display the table of 5 correlations\n",
        "cor(cyl , mpg) , cor(dis , mpg) , cor(hor , mpg), cor(wei , mpg), cor(acc , mpg)\n",
        "interpret the 5 scatterplots and the table of 5 correlations to guess which features may have stronger capacity to predict msg\n"
      ]
    },
    {
      "cell_type": "code",
      "metadata": {
        "colab": {
          "base_uri": "https://localhost:8080/"
        },
        "id": "tmRqStQdc5uh",
        "outputId": "878cad23-e13c-43a6-b7eb-c43930319fd5"
      },
      "source": [
        "#plt.scatter(df['cylinders'],df['mpg'])\n",
        "g1=sns.lmplot(x='cylinders',y='mpg',data=df)\n",
        "g1.set(xlim=(2,9))\n",
        "plt.xlabel('cylinders')\n",
        "plt.ylabel('mpg')\n",
        "plt.title(\"Cylinders VS mpg\")\n",
        "plt.show()"
      ],
      "execution_count": null,
      "outputs": [
        {
          "output_type": "display_data",
          "data": {
            "image/png": "[encoded data removed]",
            "text/plain": [
              "<Figure size 360x360 with 1 Axes>"
            ]
          },
          "metadata": {
            "needs_background": "light"
          }
        }
      ]
    },
    {
      "cell_type": "code",
      "metadata": {
        "colab": {
          "base_uri": "https://localhost:8080/"
        },
        "id": "d3Cq7huJkoGa",
        "outputId": "5bdfdf96-0e90-40f3-817f-5b8e864c3e63"
      },
      "source": [
        "#plt.scatter(df['displacement'],df['mpg'])\n",
        "g2=sns.lmplot(x='displacement',y='mpg',data=df)\n",
        "g2.set(xlim=(50,500))\n",
        "plt.xlabel('displacement')\n",
        "plt.ylabel('mpg')\n",
        "plt.title(\"displacement VS mpg\")\n",
        "plt.show()"
      ],
      "execution_count": null,
      "outputs": [
        {
          "output_type": "display_data",
          "data": {
            "image/png": "[encoded data removed]",
            "text/plain": [
              "<Figure size 360x360 with 1 Axes>"
            ]
          },
          "metadata": {
            "needs_background": "light"
          }
        }
      ]
    },
    {
      "cell_type": "code",
      "metadata": {
        "colab": {
          "base_uri": "https://localhost:8080/"
        },
        "id": "8g7UdYJtlN7Q",
        "outputId": "4f6cb732-f60a-4ca5-ef41-f2968a260485"
      },
      "source": [
        "#plt.scatter(df['horsepower'],df['mpg'])\n",
        "g3=sns.lmplot(x='horsepower',y='mpg',data=df)\n",
        "g3.set(xlim=(30,250))\n",
        "plt.xlabel('horsepower')\n",
        "plt.ylabel('mpg')\n",
        "plt.title(\"horsepower VS mpg\")\n",
        "plt.show()"
      ],
      "execution_count": null,
      "outputs": [
        {
          "output_type": "display_data",
          "data": {
            "image/png": "[encoded data removed]",
            "text/plain": [
              "<Figure size 360x360 with 1 Axes>"
            ]
          },
          "metadata": {
            "needs_background": "light"
          }
        }
      ]
    },
    {
      "cell_type": "code",
      "metadata": {
        "colab": {
          "base_uri": "https://localhost:8080/"
        },
        "id": "DfRcM5tRlgvT",
        "outputId": "86739736-6e2d-43ab-a6c1-5ff48c3720cb"
      },
      "source": [
        "g4=sns.lmplot(x='weight',y='mpg',data=df)\n",
        "g4.set(xlim=(1500,5500))\n",
        "plt.xlabel('weight')\n",
        "plt.ylabel('mpg')\n",
        "plt.title(\"weight VS mpg\")\n",
        "plt.show()"
      ],
      "execution_count": null,
      "outputs": [
        {
          "output_type": "display_data",
          "data": {
            "image/png": "[encoded data removed]",
            "text/plain": [
              "<Figure size 360x360 with 1 Axes>"
            ]
          },
          "metadata": {
            "needs_background": "light"
          }
        }
      ]
    },
    {
      "cell_type": "code",
      "metadata": {
        "colab": {
          "base_uri": "https://localhost:8080/"
        },
        "id": "F-2fzJQDmmgw",
        "outputId": "171707f7-696d-4d8c-bb52-a1b899a4a0be"
      },
      "source": [
        "g5=sns.lmplot(x='acceleration',y='mpg',data=df)\n",
        "g5.set(xlim=(7,26))\n",
        "plt.xlabel('acceleration')\n",
        "plt.ylabel('mpg')\n",
        "plt.title(\"acceleration VS mpg\")\n",
        "plt.show()"
      ],
      "execution_count": null,
      "outputs": [
        {
          "output_type": "display_data",
          "data": {
            "image/png": "[encoded data removed]",
            "text/plain": [
              "<Figure size 360x360 with 1 Axes>"
            ]
          },
          "metadata": {
            "needs_background": "light"
          }
        }
      ]
    },
    {
      "cell_type": "markdown",
      "metadata": {
        "id": "JHqljiFtn0dH"
      },
      "source": [
        "### 4) Compute the 5x5 correlation matrix CORR(Fi,Fj) of the 5 features; interpretation of that matrix"
      ]
    },
    {
      "cell_type": "code",
      "metadata": {
        "colab": {
          "base_uri": "https://localhost:8080/"
        },
        "id": "LKJGwQOGnxXF",
        "outputId": "9727eb47-e678-4ce7-f618-c4c2caa5f5c0"
      },
      "source": [
        "correlations = df.iloc[:,1:6].corr()\n",
        "print(correlations)"
      ],
      "execution_count": null,
      "outputs": [
        {
          "output_type": "stream",
          "name": "stdout",
          "text": [
            "              cylinders  displacement  horsepower    weight  acceleration\n",
            "cylinders      1.000000      0.950823    0.842983  0.897527     -0.504683\n",
            "displacement   0.950823      1.000000    0.897257  0.932994     -0.543800\n",
            "horsepower     0.842983      0.897257    1.000000  0.864538     -0.689196\n",
            "weight         0.897527      0.932994    0.864538  1.000000     -0.416839\n",
            "acceleration  -0.504683     -0.543800   -0.689196 -0.416839      1.000000\n"
          ]
        }
      ]
    },
    {
      "cell_type": "markdown",
      "metadata": {
        "id": "iEUmYdbgoIl3"
      },
      "source": [
        "It indicates that there are strongly positive correlations between variables F1,F2,F3,F4, and there are weakly negative correlations between F5 and other four variables.\n"
      ]
    },
    {
      "cell_type": "markdown",
      "metadata": {
        "id": "Van2bSK3oNfO"
      },
      "source": [
        "### 5) Display the quantiles Q1% Q2% ... Q100% of the response variable mpg as an increasing quantile curve"
      ]
    },
    {
      "cell_type": "code",
      "metadata": {
        "colab": {
          "base_uri": "https://localhost:8080/"
        },
        "id": "RLp3Bw7mo_EE",
        "outputId": "caf49471-865f-4770-a2f4-5246257594ef"
      },
      "source": [
        "m=df['mpg'].to_numpy()\n",
        "m=np.sort(m)\n",
        "mq=(1/392)* np.arange(1,393)\n",
        "plt.plot(mq,m)"
      ],
      "execution_count": null,
      "outputs": [
        {
          "output_type": "execute_result",
          "data": {
            "text/plain": [
              "[<matplotlib.lines.Line2D at 0x7fac5f920710>]"
            ]
          },
          "metadata": {},
          "execution_count": 58
        },
        {
          "output_type": "display_data",
          "data": {
            "image/png": "[encoded data removed]",
            "text/plain": [
              "<Figure size 432x288 with 1 Axes>"
            ]
          },
          "metadata": {
            "needs_background": "light"
          }
        }
      ]
    },
    {
      "cell_type": "markdown",
      "metadata": {
        "id": "OUQA-f3NvbBJ"
      },
      "source": [
        "###6) Compute 5 linear regressions \n",
        "Compute 5 linear regressions Y= A1F1 +B1 +errorterm ..... Y= A5F5 +B5 +errorterm give the values of A1,B1, RMSE1 ... A5,B5, RMSE5 this defines 5 linear predictors of Y denoted PRED1Y= A* F1 +B1 , ..... , PRED5Y= A5*F5 +B5 Compute the relative accuracies of these 5 predictors : RMSE1 / mean(Y) , ... , RMSE5 / mean(Y) display each linear graphs PREDjY versus Fj on same graph as corresponding scatterplot (Fj,Y) Interpretation of these results"
      ]
    },
    {
      "cell_type": "code",
      "metadata": {
        "id": "yYutOstWJaHB"
      },
      "source": [
        "f1 = df['cylinders']\n",
        "f2 = df['displacement']\n",
        "f3 = df['horsepower']\n",
        "f4 = df['weight']\n",
        "f5 = df['acceleration']"
      ],
      "execution_count": null,
      "outputs": []
    },
    {
      "cell_type": "code",
      "metadata": {
        "id": "iv943yhEF3P1",
        "colab": {
          "base_uri": "https://localhost:8080/"
        },
        "outputId": "4a5cde6e-2707-4b05-a1f8-b7791592ef6d"
      },
      "source": [
        "### linear regression mpg and F1\n",
        "regr1 = linear_model.LinearRegression()\n",
        "regr1.fit(f1.to_numpy().reshape(-1, 1), df['mpg'].to_numpy().reshape(-1, 1))\n",
        "pred1 = regr1.predict(f1.to_numpy().reshape(-1, 1))\n",
        "\n",
        "print('Coefficients:', regr1.coef_)\n",
        "print('intercept:', regr1.intercept_)\n",
        "# The mean squared error and RMSE\n",
        "print('Mean squared error:',\n",
        "       mean_squared_error(df['mpg'],pred1))\n",
        "print('RMSE:',\n",
        "       math.sqrt(mean_squared_error(df['mpg'],pred1)))\n",
        "print('Accuracy:',\n",
        "       math.sqrt(mean_squared_error(df['mpg'],pred1,))/(df['mpg'].mean()))"
      ],
      "execution_count": null,
      "outputs": [
        {
          "output_type": "stream",
          "name": "stdout",
          "text": [
            "Coefficients: [[-3.55807837]]\n",
            "intercept: [42.91550535]\n",
            "Mean squared error: 24.020179568155537\n",
            "RMSE: 4.901038621369509\n",
            "Accuracy: 0.2090358988963798\n"
          ]
        }
      ]
    },
    {
      "cell_type": "code",
      "metadata": {
        "id": "2A_pQ5_dGWSx",
        "colab": {
          "base_uri": "https://localhost:8080/"
        },
        "outputId": "ab80f425-7188-4656-99a0-c5a9a9f825eb"
      },
      "source": [
        "### linear regression mpg and F2\n",
        "regr2 = linear_model.LinearRegression()\n",
        "regr2.fit(f2.to_numpy().reshape(-1, 1), df['mpg'].to_numpy().reshape(-1, 1))\n",
        "pred2 = regr2.predict(f2.to_numpy().reshape(-1, 1))\n",
        "pred2\n",
        "\n",
        "print('Coefficients:', regr2.coef_)\n",
        "print('intercept:', regr2.intercept_)\n",
        "# The mean squared error and RMSE\n",
        "print('Mean squared error:',\n",
        "       mean_squared_error(pred2,df['mpg']))\n",
        "print('RMSE:',\n",
        "       math.sqrt(mean_squared_error(pred2,df['mpg'])))\n",
        "print('Accuracy:',\n",
        "       math.sqrt(mean_squared_error(pred2,df['mpg']))/(df['mpg'].mean()))"
      ],
      "execution_count": null,
      "outputs": [
        {
          "output_type": "stream",
          "name": "stdout",
          "text": [
            "Coefficients: [[-0.06005143]]\n",
            "intercept: [35.12063594]\n",
            "Mean squared error: 21.37454494009465\n",
            "RMSE: 4.623261288321768\n",
            "Accuracy: 0.1971883214760557\n"
          ]
        }
      ]
    },
    {
      "cell_type": "code",
      "metadata": {
        "id": "0D-8qM81HGAZ",
        "colab": {
          "base_uri": "https://localhost:8080/"
        },
        "outputId": "04196031-470d-4e1a-a088-0610557705f5"
      },
      "source": [
        "### linear regression mpg and F3\n",
        "regr3 = linear_model.LinearRegression()\n",
        "regr3.fit(f3.to_numpy().reshape(-1, 1), df['mpg'].to_numpy().reshape(-1, 1))\n",
        "pred3 = regr3.predict(f3.to_numpy().reshape(-1, 1))\n",
        "pred3\n",
        "\n",
        "print('Coefficients:', regr3.coef_)\n",
        "print('Intercept:', regr3.intercept_)\n",
        "# The mean squared error and RMSE\n",
        "print('Mean squared error:',\n",
        "       mean_squared_error(pred3,df['mpg']))\n",
        "print('RMSE:',\n",
        "       math.sqrt(mean_squared_error(pred3,df['mpg'])))\n",
        "print('Accuracy:',\n",
        "       math.sqrt(mean_squared_error(pred3,df['mpg']))/(df['mpg'].mean()))"
      ],
      "execution_count": null,
      "outputs": [
        {
          "output_type": "stream",
          "name": "stdout",
          "text": [
            "Coefficients: [[-0.15784473]]\n",
            "Intercept: [39.93586102]\n",
            "Mean squared error: 23.943662938603108\n",
            "RMSE: 4.893226230065713\n",
            "Accuracy: 0.20870268988398824\n"
          ]
        }
      ]
    },
    {
      "cell_type": "code",
      "metadata": {
        "id": "H84PEE73HIzf",
        "colab": {
          "base_uri": "https://localhost:8080/"
        },
        "outputId": "920be9d7-9260-4af6-b84d-d20a394fea17"
      },
      "source": [
        "### linear regression mpg and F4\n",
        "regr4 = linear_model.LinearRegression()\n",
        "regr4.fit(f4.to_numpy().reshape(-1, 1), df['mpg'].to_numpy().reshape(-1, 1))\n",
        "pred4 = regr4.predict(f4.to_numpy().reshape(-1, 1))\n",
        "pred4\n",
        "\n",
        "print('Coefficients:', regr4.coef_)\n",
        "print('Intercept:', regr4.intercept_)\n",
        "# The mean squared error and RMSE\n",
        "print('Mean squared error:',\n",
        "       mean_squared_error(pred4,df['mpg']))\n",
        "print('RMSE:',\n",
        "       math.sqrt(mean_squared_error(pred4,df['mpg'])))\n",
        "print('Accuracy:',\n",
        "       math.sqrt(mean_squared_error(pred4,df['mpg']))/(df_outlier['mpg'].mean()))"
      ],
      "execution_count": null,
      "outputs": [
        {
          "output_type": "stream",
          "name": "stdout",
          "text": [
            "Coefficients: [[-0.00764734]]\n",
            "Intercept: [46.21652455]\n",
            "Mean squared error: 18.6766165974193\n",
            "RMSE: 4.321645126270701\n",
            "Accuracy: 0.10125691486107546\n"
          ]
        }
      ]
    },
    {
      "cell_type": "code",
      "metadata": {
        "id": "CmKOYbKOHL4X",
        "colab": {
          "base_uri": "https://localhost:8080/"
        },
        "outputId": "a1983e2b-5868-46b1-a4e1-dad4eb734535"
      },
      "source": [
        "### linear regression mpg and F5\n",
        "regr5 = linear_model.LinearRegression()\n",
        "regr5.fit(f5.to_numpy().reshape(-1, 1), df['mpg'].to_numpy().reshape(-1, 1))\n",
        "pred5 = regr5.predict(f5.to_numpy().reshape(-1, 1))\n",
        "pred5\n",
        "\n",
        "print('Coefficients:', regr5.coef_)\n",
        "print('Intercept:', regr5.intercept_)\n",
        "# The mean squared error and RMSE\n",
        "print('Mean squared error:',\n",
        "       mean_squared_error(pred5,f5))\n",
        "print('RMSE:',\n",
        "       math.sqrt(mean_squared_error(pred5,df['mpg'])))\n",
        "print('Accuracy:',\n",
        "       math.sqrt(mean_squared_error(pred5,df['mpg']))/(df['mpg'].mean()))"
      ],
      "execution_count": null,
      "outputs": [
        {
          "output_type": "stream",
          "name": "stdout",
          "text": [
            "Coefficients: [[1.19762419]]\n",
            "Intercept: [4.8332498]\n",
            "Mean squared error: 62.779076754980416\n",
            "RMSE: 7.062126261024527\n",
            "Accuracy: 0.30120919771092985\n"
          ]
        }
      ]
    },
    {
      "cell_type": "markdown",
      "metadata": {
        "id": "DKuTWtSSDuJo"
      },
      "source": [
        "# **Episode 2. Automatic Classification of Data by KNN Technique** \n",
        "\n"
      ]
    },
    {
      "cell_type": "markdown",
      "metadata": {
        "id": "HxzfzRWVD13c"
      },
      "source": [
        "### 8. Extract from the data set three disjoint tables of cases ,\n",
        "LOWmpg table = {all cases for which mpg <= quantile Q33%}\n",
        "MEDmpg table = {all cases for which quantile Q33% < mpg <= quantile Q66%}\n",
        "HIGHmpg table = {all cases for which mpg > quantile Q66%}"
      ]
    },
    {
      "cell_type": "code",
      "metadata": {
        "colab": {
          "base_uri": "https://localhost:8080/",
          "height": 419
        },
        "id": "LSPkSsbeEsq9",
        "outputId": "7a0a4432-9f3c-4c41-c151-7d55b5020bdd"
      },
      "source": [
        "df_LOWmpg=df[df[\"mpg\"]<=df['mpg'].quantile(0.33)]\n",
        "df_LOWmpg "
      ],
      "execution_count": null,
      "outputs": [
        {
          "output_type": "execute_result",
          "data": {
            "text/html": [
              "<div>\n",
              "<style scoped>\n",
              "    .dataframe tbody tr th:only-of-type {\n",
              "        vertical-align: middle;\n",
              "    }\n",
              "\n",
              "    .dataframe tbody tr th {\n",
              "        vertical-align: top;\n",
              "    }\n",
              "\n",
              "    .dataframe thead th {\n",
              "        text-align: right;\n",
              "    }\n",
              "</style>\n",
              "<table border=\"1\" class=\"dataframe\">\n",
              "  <thead>\n",
              "    <tr style=\"text-align: right;\">\n",
              "      <th></th>\n",
              "      <th>mpg</th>\n",
              "      <th>cylinders</th>\n",
              "      <th>displacement</th>\n",
              "      <th>horsepower</th>\n",
              "      <th>weight</th>\n",
              "      <th>acceleration</th>\n",
              "    </tr>\n",
              "  </thead>\n",
              "  <tbody>\n",
              "    <tr>\n",
              "      <th>0</th>\n",
              "      <td>18.0</td>\n",
              "      <td>8</td>\n",
              "      <td>307.0</td>\n",
              "      <td>130</td>\n",
              "      <td>3504</td>\n",
              "      <td>12.0</td>\n",
              "    </tr>\n",
              "    <tr>\n",
              "      <th>1</th>\n",
              "      <td>15.0</td>\n",
              "      <td>8</td>\n",
              "      <td>350.0</td>\n",
              "      <td>165</td>\n",
              "      <td>3693</td>\n",
              "      <td>11.5</td>\n",
              "    </tr>\n",
              "    <tr>\n",
              "      <th>2</th>\n",
              "      <td>18.0</td>\n",
              "      <td>8</td>\n",
              "      <td>318.0</td>\n",
              "      <td>150</td>\n",
              "      <td>3436</td>\n",
              "      <td>11.0</td>\n",
              "    </tr>\n",
              "    <tr>\n",
              "      <th>3</th>\n",
              "      <td>16.0</td>\n",
              "      <td>8</td>\n",
              "      <td>304.0</td>\n",
              "      <td>150</td>\n",
              "      <td>3433</td>\n",
              "      <td>12.0</td>\n",
              "    </tr>\n",
              "    <tr>\n",
              "      <th>4</th>\n",
              "      <td>17.0</td>\n",
              "      <td>8</td>\n",
              "      <td>302.0</td>\n",
              "      <td>140</td>\n",
              "      <td>3449</td>\n",
              "      <td>10.5</td>\n",
              "    </tr>\n",
              "    <tr>\n",
              "      <th>...</th>\n",
              "      <td>...</td>\n",
              "      <td>...</td>\n",
              "      <td>...</td>\n",
              "      <td>...</td>\n",
              "      <td>...</td>\n",
              "      <td>...</td>\n",
              "    </tr>\n",
              "    <tr>\n",
              "      <th>286</th>\n",
              "      <td>18.2</td>\n",
              "      <td>8</td>\n",
              "      <td>318.0</td>\n",
              "      <td>135</td>\n",
              "      <td>3830</td>\n",
              "      <td>15.2</td>\n",
              "    </tr>\n",
              "    <tr>\n",
              "      <th>287</th>\n",
              "      <td>16.9</td>\n",
              "      <td>8</td>\n",
              "      <td>350.0</td>\n",
              "      <td>155</td>\n",
              "      <td>4360</td>\n",
              "      <td>14.9</td>\n",
              "    </tr>\n",
              "    <tr>\n",
              "      <th>288</th>\n",
              "      <td>15.5</td>\n",
              "      <td>8</td>\n",
              "      <td>351.0</td>\n",
              "      <td>142</td>\n",
              "      <td>4054</td>\n",
              "      <td>14.3</td>\n",
              "    </tr>\n",
              "    <tr>\n",
              "      <th>290</th>\n",
              "      <td>18.5</td>\n",
              "      <td>8</td>\n",
              "      <td>360.0</td>\n",
              "      <td>150</td>\n",
              "      <td>3940</td>\n",
              "      <td>13.0</td>\n",
              "    </tr>\n",
              "    <tr>\n",
              "      <th>361</th>\n",
              "      <td>17.6</td>\n",
              "      <td>6</td>\n",
              "      <td>225.0</td>\n",
              "      <td>85</td>\n",
              "      <td>3465</td>\n",
              "      <td>16.6</td>\n",
              "    </tr>\n",
              "  </tbody>\n",
              "</table>\n",
              "<p>130 rows × 6 columns</p>\n",
              "</div>"
            ],
            "text/plain": [
              "      mpg  cylinders  displacement  horsepower  weight  acceleration\n",
              "0    18.0          8         307.0         130    3504          12.0\n",
              "1    15.0          8         350.0         165    3693          11.5\n",
              "2    18.0          8         318.0         150    3436          11.0\n",
              "3    16.0          8         304.0         150    3433          12.0\n",
              "4    17.0          8         302.0         140    3449          10.5\n",
              "..    ...        ...           ...         ...     ...           ...\n",
              "286  18.2          8         318.0         135    3830          15.2\n",
              "287  16.9          8         350.0         155    4360          14.9\n",
              "288  15.5          8         351.0         142    4054          14.3\n",
              "290  18.5          8         360.0         150    3940          13.0\n",
              "361  17.6          6         225.0          85    3465          16.6\n",
              "\n",
              "[130 rows x 6 columns]"
            ]
          },
          "metadata": {},
          "execution_count": 66
        }
      ]
    },
    {
      "cell_type": "code",
      "metadata": {
        "colab": {
          "base_uri": "https://localhost:8080/",
          "height": 419
        },
        "id": "2s4AR9h1GC84",
        "outputId": "7262f243-45c4-44e9-f6de-e2a251b03aa1"
      },
      "source": [
        "df_HIGHmpg=df[df[\"mpg\"]>df['mpg'].quantile(0.66)]\n",
        "df_HIGHmpg\n"
      ],
      "execution_count": null,
      "outputs": [
        {
          "output_type": "execute_result",
          "data": {
            "text/html": [
              "<div>\n",
              "<style scoped>\n",
              "    .dataframe tbody tr th:only-of-type {\n",
              "        vertical-align: middle;\n",
              "    }\n",
              "\n",
              "    .dataframe tbody tr th {\n",
              "        vertical-align: top;\n",
              "    }\n",
              "\n",
              "    .dataframe thead th {\n",
              "        text-align: right;\n",
              "    }\n",
              "</style>\n",
              "<table border=\"1\" class=\"dataframe\">\n",
              "  <thead>\n",
              "    <tr style=\"text-align: right;\">\n",
              "      <th></th>\n",
              "      <th>mpg</th>\n",
              "      <th>cylinders</th>\n",
              "      <th>displacement</th>\n",
              "      <th>horsepower</th>\n",
              "      <th>weight</th>\n",
              "      <th>acceleration</th>\n",
              "    </tr>\n",
              "  </thead>\n",
              "  <tbody>\n",
              "    <tr>\n",
              "      <th>18</th>\n",
              "      <td>27.0</td>\n",
              "      <td>4</td>\n",
              "      <td>97.0</td>\n",
              "      <td>88</td>\n",
              "      <td>2130</td>\n",
              "      <td>14.5</td>\n",
              "    </tr>\n",
              "    <tr>\n",
              "      <th>29</th>\n",
              "      <td>27.0</td>\n",
              "      <td>4</td>\n",
              "      <td>97.0</td>\n",
              "      <td>88</td>\n",
              "      <td>2130</td>\n",
              "      <td>14.5</td>\n",
              "    </tr>\n",
              "    <tr>\n",
              "      <th>30</th>\n",
              "      <td>28.0</td>\n",
              "      <td>4</td>\n",
              "      <td>140.0</td>\n",
              "      <td>90</td>\n",
              "      <td>2264</td>\n",
              "      <td>15.5</td>\n",
              "    </tr>\n",
              "    <tr>\n",
              "      <th>49</th>\n",
              "      <td>28.0</td>\n",
              "      <td>4</td>\n",
              "      <td>116.0</td>\n",
              "      <td>90</td>\n",
              "      <td>2123</td>\n",
              "      <td>14.0</td>\n",
              "    </tr>\n",
              "    <tr>\n",
              "      <th>50</th>\n",
              "      <td>30.0</td>\n",
              "      <td>4</td>\n",
              "      <td>79.0</td>\n",
              "      <td>70</td>\n",
              "      <td>2074</td>\n",
              "      <td>19.5</td>\n",
              "    </tr>\n",
              "    <tr>\n",
              "      <th>...</th>\n",
              "      <td>...</td>\n",
              "      <td>...</td>\n",
              "      <td>...</td>\n",
              "      <td>...</td>\n",
              "      <td>...</td>\n",
              "      <td>...</td>\n",
              "    </tr>\n",
              "    <tr>\n",
              "      <th>387</th>\n",
              "      <td>27.0</td>\n",
              "      <td>4</td>\n",
              "      <td>140.0</td>\n",
              "      <td>86</td>\n",
              "      <td>2790</td>\n",
              "      <td>15.6</td>\n",
              "    </tr>\n",
              "    <tr>\n",
              "      <th>388</th>\n",
              "      <td>44.0</td>\n",
              "      <td>4</td>\n",
              "      <td>97.0</td>\n",
              "      <td>52</td>\n",
              "      <td>2130</td>\n",
              "      <td>24.6</td>\n",
              "    </tr>\n",
              "    <tr>\n",
              "      <th>389</th>\n",
              "      <td>32.0</td>\n",
              "      <td>4</td>\n",
              "      <td>135.0</td>\n",
              "      <td>84</td>\n",
              "      <td>2295</td>\n",
              "      <td>11.6</td>\n",
              "    </tr>\n",
              "    <tr>\n",
              "      <th>390</th>\n",
              "      <td>28.0</td>\n",
              "      <td>4</td>\n",
              "      <td>120.0</td>\n",
              "      <td>79</td>\n",
              "      <td>2625</td>\n",
              "      <td>18.6</td>\n",
              "    </tr>\n",
              "    <tr>\n",
              "      <th>391</th>\n",
              "      <td>31.0</td>\n",
              "      <td>4</td>\n",
              "      <td>119.0</td>\n",
              "      <td>82</td>\n",
              "      <td>2720</td>\n",
              "      <td>19.4</td>\n",
              "    </tr>\n",
              "  </tbody>\n",
              "</table>\n",
              "<p>132 rows × 6 columns</p>\n",
              "</div>"
            ],
            "text/plain": [
              "      mpg  cylinders  displacement  horsepower  weight  acceleration\n",
              "18   27.0          4          97.0          88    2130          14.5\n",
              "29   27.0          4          97.0          88    2130          14.5\n",
              "30   28.0          4         140.0          90    2264          15.5\n",
              "49   28.0          4         116.0          90    2123          14.0\n",
              "50   30.0          4          79.0          70    2074          19.5\n",
              "..    ...        ...           ...         ...     ...           ...\n",
              "387  27.0          4         140.0          86    2790          15.6\n",
              "388  44.0          4          97.0          52    2130          24.6\n",
              "389  32.0          4         135.0          84    2295          11.6\n",
              "390  28.0          4         120.0          79    2625          18.6\n",
              "391  31.0          4         119.0          82    2720          19.4\n",
              "\n",
              "[132 rows x 6 columns]"
            ]
          },
          "metadata": {},
          "execution_count": 67
        }
      ]
    },
    {
      "cell_type": "code",
      "metadata": {
        "colab": {
          "base_uri": "https://localhost:8080/",
          "height": 419
        },
        "id": "CjNRSyM6LwhO",
        "outputId": "91ef33a1-bb63-4fe4-db7b-96e3c4c6ab4f"
      },
      "source": [
        "df_MEDmpg1 = df[df[\"mpg\"]>df['mpg'].quantile(0.33)]\n",
        "df_MEDmpg= df_MEDmpg1[df_MEDmpg1['mpg']<=df['mpg'].quantile(0.66)]\n",
        "df_MEDmpg"
      ],
      "execution_count": null,
      "outputs": [
        {
          "output_type": "execute_result",
          "data": {
            "text/html": [
              "<div>\n",
              "<style scoped>\n",
              "    .dataframe tbody tr th:only-of-type {\n",
              "        vertical-align: middle;\n",
              "    }\n",
              "\n",
              "    .dataframe tbody tr th {\n",
              "        vertical-align: top;\n",
              "    }\n",
              "\n",
              "    .dataframe thead th {\n",
              "        text-align: right;\n",
              "    }\n",
              "</style>\n",
              "<table border=\"1\" class=\"dataframe\">\n",
              "  <thead>\n",
              "    <tr style=\"text-align: right;\">\n",
              "      <th></th>\n",
              "      <th>mpg</th>\n",
              "      <th>cylinders</th>\n",
              "      <th>displacement</th>\n",
              "      <th>horsepower</th>\n",
              "      <th>weight</th>\n",
              "      <th>acceleration</th>\n",
              "    </tr>\n",
              "  </thead>\n",
              "  <tbody>\n",
              "    <tr>\n",
              "      <th>14</th>\n",
              "      <td>24.0</td>\n",
              "      <td>4</td>\n",
              "      <td>113.0</td>\n",
              "      <td>95</td>\n",
              "      <td>2372</td>\n",
              "      <td>15.0</td>\n",
              "    </tr>\n",
              "    <tr>\n",
              "      <th>15</th>\n",
              "      <td>22.0</td>\n",
              "      <td>6</td>\n",
              "      <td>198.0</td>\n",
              "      <td>95</td>\n",
              "      <td>2833</td>\n",
              "      <td>15.5</td>\n",
              "    </tr>\n",
              "    <tr>\n",
              "      <th>17</th>\n",
              "      <td>21.0</td>\n",
              "      <td>6</td>\n",
              "      <td>200.0</td>\n",
              "      <td>85</td>\n",
              "      <td>2587</td>\n",
              "      <td>16.0</td>\n",
              "    </tr>\n",
              "    <tr>\n",
              "      <th>19</th>\n",
              "      <td>26.0</td>\n",
              "      <td>4</td>\n",
              "      <td>97.0</td>\n",
              "      <td>46</td>\n",
              "      <td>1835</td>\n",
              "      <td>20.5</td>\n",
              "    </tr>\n",
              "    <tr>\n",
              "      <th>20</th>\n",
              "      <td>25.0</td>\n",
              "      <td>4</td>\n",
              "      <td>110.0</td>\n",
              "      <td>87</td>\n",
              "      <td>2672</td>\n",
              "      <td>17.5</td>\n",
              "    </tr>\n",
              "    <tr>\n",
              "      <th>...</th>\n",
              "      <td>...</td>\n",
              "      <td>...</td>\n",
              "      <td>...</td>\n",
              "      <td>...</td>\n",
              "      <td>...</td>\n",
              "      <td>...</td>\n",
              "    </tr>\n",
              "    <tr>\n",
              "      <th>360</th>\n",
              "      <td>20.2</td>\n",
              "      <td>6</td>\n",
              "      <td>200.0</td>\n",
              "      <td>88</td>\n",
              "      <td>3060</td>\n",
              "      <td>17.1</td>\n",
              "    </tr>\n",
              "    <tr>\n",
              "      <th>368</th>\n",
              "      <td>24.0</td>\n",
              "      <td>4</td>\n",
              "      <td>140.0</td>\n",
              "      <td>92</td>\n",
              "      <td>2865</td>\n",
              "      <td>16.4</td>\n",
              "    </tr>\n",
              "    <tr>\n",
              "      <th>380</th>\n",
              "      <td>25.0</td>\n",
              "      <td>6</td>\n",
              "      <td>181.0</td>\n",
              "      <td>110</td>\n",
              "      <td>2945</td>\n",
              "      <td>16.4</td>\n",
              "    </tr>\n",
              "    <tr>\n",
              "      <th>382</th>\n",
              "      <td>26.0</td>\n",
              "      <td>4</td>\n",
              "      <td>156.0</td>\n",
              "      <td>92</td>\n",
              "      <td>2585</td>\n",
              "      <td>14.5</td>\n",
              "    </tr>\n",
              "    <tr>\n",
              "      <th>383</th>\n",
              "      <td>22.0</td>\n",
              "      <td>6</td>\n",
              "      <td>232.0</td>\n",
              "      <td>112</td>\n",
              "      <td>2835</td>\n",
              "      <td>14.7</td>\n",
              "    </tr>\n",
              "  </tbody>\n",
              "</table>\n",
              "<p>130 rows × 6 columns</p>\n",
              "</div>"
            ],
            "text/plain": [
              "      mpg  cylinders  displacement  horsepower  weight  acceleration\n",
              "14   24.0          4         113.0          95    2372          15.0\n",
              "15   22.0          6         198.0          95    2833          15.5\n",
              "17   21.0          6         200.0          85    2587          16.0\n",
              "19   26.0          4          97.0          46    1835          20.5\n",
              "20   25.0          4         110.0          87    2672          17.5\n",
              "..    ...        ...           ...         ...     ...           ...\n",
              "360  20.2          6         200.0          88    3060          17.1\n",
              "368  24.0          4         140.0          92    2865          16.4\n",
              "380  25.0          6         181.0         110    2945          16.4\n",
              "382  26.0          4         156.0          92    2585          14.5\n",
              "383  22.0          6         232.0         112    2835          14.7\n",
              "\n",
              "[130 rows x 6 columns]"
            ]
          },
          "metadata": {},
          "execution_count": 68
        }
      ]
    },
    {
      "cell_type": "markdown",
      "metadata": {
        "id": "w6tF52TNM_xo"
      },
      "source": [
        "LOWmpg, MEDmpg and HIGHmpg are generated, there are 130 cases in the Lowmpg dataset, 130 in MEDmpg and 132 in HIGHmpg."
      ]
    },
    {
      "cell_type": "markdown",
      "metadata": {
        "id": "zIKH8NRhNZW9"
      },
      "source": [
        "### 9) For each feature F= F1 , ..., F5 , display side by side,\n",
        "### the histogram hist.low(F) of F values for all cases in LOWmpg. \n",
        "### the histogram hist.high(F) of F values for all cases in HIGHmpg\n",
        "### This will give you 5 pairs of histograms, one pair for each feature F\n",
        "###interpret each such pair of histograms to guess which features may have a good capacity to discriminate between high mpg and low mpg"
      ]
    },
    {
      "cell_type": "code",
      "metadata": {
        "id": "nf66h9caDt5M",
        "colab": {
          "base_uri": "https://localhost:8080/"
        },
        "outputId": "4241ea42-6765-42b5-dcc2-a0456c4a7f15"
      },
      "source": [
        "histLOW_cylinders=df_LOWmpg['cylinders'].plot.hist(bins=12, alpha=0.5, label='LOWmpg')\n",
        "histHIGH_cylinders=df_HIGHmpg['cylinders'].plot.hist(bins=12, alpha=0.5,label='Highmpg')\n",
        "histLOW_cylinders.set_title('Low and High MPG Distribution of Cylinders')\n",
        "plt.legend()\n",
        "plt.show()"
      ],
      "execution_count": null,
      "outputs": [
        {
          "output_type": "display_data",
          "data": {
            "image/png": "[encoded data removed]",
            "text/plain": [
              "<Figure size 432x288 with 1 Axes>"
            ]
          },
          "metadata": {
            "needs_background": "light"
          }
        }
      ]
    },
    {
      "cell_type": "code",
      "metadata": {
        "colab": {
          "base_uri": "https://localhost:8080/"
        },
        "id": "HbFXNQuFQ5Zj",
        "outputId": "ac7ce411-634a-4ea4-e765-04bb455d1489"
      },
      "source": [
        "histLOW_cylinders=df_LOWmpg['displacement'].plot.hist(bins=12, alpha=0.5, label='LOWmpg')\n",
        "histHIGH_cylinders=df_HIGHmpg['displacement'].plot.hist(bins=12, alpha=0.5,label='Highmpg')\n",
        "histLOW_cylinders.set_title('Low and High MPG Distribution of Displacement')\n",
        "plt.legend()\n",
        "plt.show()"
      ],
      "execution_count": null,
      "outputs": [
        {
          "output_type": "display_data",
          "data": {
            "image/png": "[encoded data removed]",
            "text/plain": [
              "<Figure size 432x288 with 1 Axes>"
            ]
          },
          "metadata": {
            "needs_background": "light"
          }
        }
      ]
    },
    {
      "cell_type": "code",
      "metadata": {
        "colab": {
          "base_uri": "https://localhost:8080/"
        },
        "id": "dECSA7iyRRfg",
        "outputId": "bb704c61-52df-4f48-f778-2f70c7176d96"
      },
      "source": [
        "histLOW_cylinders=df_LOWmpg['horsepower'].plot.hist(bins=12, alpha=0.5, label='LOWmpg')\n",
        "histHIGH_cylinders=df_HIGHmpg['horsepower'].plot.hist(bins=12, alpha=0.5,label='Highmpg')\n",
        "histLOW_cylinders.set_title('Low and High MPG Distribution of Horsepower')\n",
        "plt.legend()\n",
        "plt.show()"
      ],
      "execution_count": null,
      "outputs": [
        {
          "output_type": "display_data",
          "data": {
            "image/png": "[encoded data removed]",
            "text/plain": [
              "<Figure size 432x288 with 1 Axes>"
            ]
          },
          "metadata": {
            "needs_background": "light"
          }
        }
      ]
    },
    {
      "cell_type": "code",
      "metadata": {
        "colab": {
          "base_uri": "https://localhost:8080/"
        },
        "id": "9g1S4-lBUKgI",
        "outputId": "aaec7556-4b6b-4a6f-c466-9a0a1cb592b1"
      },
      "source": [
        "histLOW_cylinders=df_LOWmpg['weight'].plot.hist(bins=12, alpha=0.5, label='LOWmpg')\n",
        "histHIGH_cylinders=df_HIGHmpg['weight'].plot.hist(bins=12, alpha=0.5,label='Highmpg')\n",
        "histLOW_cylinders.set_title('Low and High MPG Distribution of Weight')\n",
        "plt.legend()\n",
        "plt.show()"
      ],
      "execution_count": null,
      "outputs": [
        {
          "output_type": "display_data",
          "data": {
            "image/png": "[encoded data removed]",
            "text/plain": [
              "<Figure size 432x288 with 1 Axes>"
            ]
          },
          "metadata": {
            "needs_background": "light"
          }
        }
      ]
    },
    {
      "cell_type": "code",
      "metadata": {
        "id": "zswZf0E8dFvf",
        "colab": {
          "base_uri": "https://localhost:8080/"
        },
        "outputId": "020d0e9a-e525-40be-bece-e962fc57ac02"
      },
      "source": [
        "histLOW_cylinders=df_LOWmpg['acceleration'].plot.hist(bins=12, alpha=0.5, label='LOWmpg')\n",
        "histHIGH_cylinders=df_HIGHmpg['acceleration'].plot.hist(bins=12, alpha=0.5,label='Highmpg')\n",
        "histLOW_cylinders.set_title('Low and High MPG Distribution of Acceleration')\n",
        "plt.legend()\n",
        "plt.show()"
      ],
      "execution_count": null,
      "outputs": [
        {
          "output_type": "display_data",
          "data": {
            "image/png": "[encoded data removed]",
            "text/plain": [
              "<Figure size 432x288 with 1 Axes>"
            ]
          },
          "metadata": {
            "needs_background": "light"
          }
        }
      ]
    },
    {
      "cell_type": "markdown",
      "metadata": {
        "id": "zkvHuWhqUPCV"
      },
      "source": [
        "Answer: By the 5 side by side histogram shown above, features of  \"Displacement\",\"Horsepower\" and \"Weight\" have a good capacity to discriminate between high mpg and low mpg."
      ]
    },
    {
      "cell_type": "markdown",
      "metadata": {
        "id": "YqcEZv2sVJxF"
      },
      "source": [
        "### 10) For each feature F, compute the mean mL and standard dev. stdL of F values for all cases with LOWmpg; compute the mean mH and standard dev. stdH of F values for all cases with HIGHmpg compute 90% confidence intervals around mL and mH and compare them to evaluate the \"power\" of feature F to discriminate between low mpg and high mpg;compare these qualitative discriminating powers between the five feature"
      ]
    },
    {
      "cell_type": "markdown",
      "metadata": {
        "id": "affapQzcDK6_"
      },
      "source": [
        "****10.1 For Responsible Feature MPG****\n",
        "\n",
        "---\n",
        "\n",
        "\n",
        "The mean low MPG is 15.145, std is 2.203, 90% CI is [14.828, 15.463];\n",
        "\n",
        "---\n",
        "\n",
        "\n",
        "The mean high MPG is 32.506, std is 4.392, 90% CI is [31.877 to 33.135];\n",
        "\n",
        "---\n",
        "\n",
        "\n",
        "the code is shown as following:"
      ]
    },
    {
      "cell_type": "code",
      "metadata": {
        "colab": {
          "base_uri": "https://localhost:8080/"
        },
        "id": "zzXRwuTrS70o",
        "outputId": "62b118d8-0296-4270-e511-3fa7660d1d44"
      },
      "source": [
        "mean_LOW=df_LOWmpg['mpg'].mean()\n",
        "std_LOW=df_LOWmpg['mpg'].std()\n",
        "n_LOW=len(df_LOWmpg)\n",
        "h_MPG_LOW= 1.645*std_LOW/np.sqrt(n_LOW)\n",
        "CIL_MPG_l=mean_LOW-h_MPG_LOW\n",
        "CIL_MPG_h=mean_LOW+h_MPG_LOW\n",
        "print(\"mean value of low mpg cases is\",'%.3f'%mean_LOW, \"std of low mpg cases is\",'%.3f'%std_LOW, '\\n' \"90% Confidence intervals of low mpg mean is\",'%.3f'%CIL_MPG_l,\"to\",'%.3f'%CIL_MPG_h)\n"
      ],
      "execution_count": null,
      "outputs": [
        {
          "output_type": "stream",
          "name": "stdout",
          "text": [
            "mean value of low mpg cases is 15.145 std of low mpg cases is 2.203 \n",
            "90% Confidence intervals of low mpg mean is 14.828 to 15.463\n"
          ]
        }
      ]
    },
    {
      "cell_type": "code",
      "metadata": {
        "colab": {
          "base_uri": "https://localhost:8080/"
        },
        "id": "1YbCzbGbfEEE",
        "outputId": "76a085c1-a0b6-43d4-cdc6-ec3e68dfc20c"
      },
      "source": [
        "mean_HIGH=df_HIGHmpg['mpg'].mean()\n",
        "std_HIGH=df_HIGHmpg['mpg'].std()\n",
        "n_HIGH=len(df_HIGHmpg)\n",
        "h_MPG_HIGH= 1.645*std_HIGH/np.sqrt(n_HIGH)\n",
        "CIH_MPG_l=mean_HIGH-h_MPG_HIGH\n",
        "CIH_MPG_h=mean_HIGH+h_MPG_HIGH\n",
        "print(\"mean value of high mpg cases is\",'%.3f'%mean_HIGH, \"std of high mpg cases is\",'%.3f'%std_HIGH,'\\n' \"90% Confidence intervals of high mpg mean is\",'%.3f'%CIH_MPG_l,\"to\",'%.3f'%CIH_MPG_h)\n"
      ],
      "execution_count": null,
      "outputs": [
        {
          "output_type": "stream",
          "name": "stdout",
          "text": [
            "mean value of high mpg cases is 32.506 std of high mpg cases is 4.392 \n",
            "90% Confidence intervals of high mpg mean is 31.877 to 33.135\n"
          ]
        }
      ]
    },
    {
      "cell_type": "markdown",
      "metadata": {
        "id": "djPC6Gt9DhsO"
      },
      "source": [
        "****10.2 For Feature of Cylinders****\n",
        "\n",
        "---\n",
        "\n",
        "\n",
        "The mean cylinders at low MPG is 7.408  , std is 1.009, 90% CI is [7.090, 7.725];\n",
        "\n",
        "---\n",
        "\n",
        "\n",
        "The mean cylinders at high MPG is 4.083, std is 0.392 , 90% CI is [4.027 to 4.139];\n",
        "\n",
        "---\n",
        "\n",
        "\n",
        "the code is shown as following:"
      ]
    },
    {
      "cell_type": "code",
      "metadata": {
        "colab": {
          "base_uri": "https://localhost:8080/"
        },
        "id": "xnM5mGU-Dlua",
        "outputId": "db747774-2aad-44c3-aa92-e1148afd175a"
      },
      "source": [
        "F1_mean_LOW=df_LOWmpg['cylinders'].mean()\n",
        "F1_std_LOW=df_LOWmpg['cylinders'].std()\n",
        "n_LOW=len(df_LOWmpg)\n",
        "h_F1_LOW= 1.645*F1_std_LOW/np.sqrt(n_LOW)\n",
        "CIL_F1_l=F1_mean_LOW-h_F1_LOW\n",
        "CIL_F1_h=F1_mean_LOW+h_F1_LOW\n",
        "print(\"mean value of cylinders at low mpg cases is\",'%.3f'%F1_mean_LOW,'\\n'  \"std of clylinders at low mpg cases is\",'%.3f'%F1_std_LOW,'\\n' \"90% Confidence intervals of mean cylinders at low mpg is\",'%.3f'%CIL_F1_l,\"to\",'%.3f'%CIL_F1_h)"
      ],
      "execution_count": null,
      "outputs": [
        {
          "output_type": "stream",
          "name": "stdout",
          "text": [
            "mean value of cylinders at low mpg cases is 7.408 \n",
            "std of clylinders at low mpg cases is 1.009 \n",
            "90% Confidence intervals of mean cylinders at low mpg is 7.262 to 7.553\n"
          ]
        }
      ]
    },
    {
      "cell_type": "code",
      "metadata": {
        "colab": {
          "base_uri": "https://localhost:8080/"
        },
        "id": "xlUVEQ2KaAEp",
        "outputId": "c509bf84-bd70-4ee3-bac3-292190ef1d67"
      },
      "source": [
        "F1_mean_HIGH=df_HIGHmpg['cylinders'].mean()\n",
        "F1_std_HIGH=df_HIGHmpg['cylinders'].std()\n",
        "n_HIGH=len(df_HIGHmpg)\n",
        "h_F1_HIGH= 1.645*F1_std_HIGH/np.sqrt(n_HIGH)\n",
        "CIH_F1_l=F1_mean_HIGH-h_F1_HIGH\n",
        "CIH_F1_h=F1_mean_HIGH+h_F1_HIGH\n",
        "print(\"mean value of cylinders at high mpg cases is\",'%.3f'%F1_mean_HIGH, \"std of clylinders at high mpg cases is\",'%.3f'%F1_std_HIGH, \"90% Confidence intervals of mean cylinders at high mpg is\",'%.3f'%CIH_F1_l,\"to\",'%.3f'%CIH_F1_h)"
      ],
      "execution_count": null,
      "outputs": [
        {
          "output_type": "stream",
          "name": "stdout",
          "text": [
            "mean value of cylinders at high mpg cases is 4.083 std of clylinders at high mpg cases is 0.392 90% Confidence intervals of mean cylinders at high mpg is 4.027 to 4.139\n"
          ]
        }
      ]
    },
    {
      "cell_type": "markdown",
      "metadata": {
        "id": "KCroKRNXHW0n"
      },
      "source": [
        "****10.3 For Feature F2=displacement****\n",
        "\n",
        "---\n",
        "\n",
        "\n",
        "The mean displacement at low MPG is 315.308   , std is 71.114, 90% CI is [305.048, 325.568];\n",
        "\n",
        "---\n",
        "\n",
        "\n",
        "The mean displacement at high MPG is 106.402, std is 26.422 , 90% CI is [140.452 to 150.794];\n",
        "\n",
        "---\n",
        "\n",
        "\n",
        "the code is shown as following:"
      ]
    },
    {
      "cell_type": "code",
      "metadata": {
        "colab": {
          "base_uri": "https://localhost:8080/"
        },
        "id": "EwCR91DQHHCc",
        "outputId": "27bf371e-65c3-483b-a0ad-5e5c4b0cc250"
      },
      "source": [
        "F2_mean_LOW=df_LOWmpg['displacement'].mean()\n",
        "F2_std_LOW=df_LOWmpg['displacement'].std()\n",
        "n_LOW=len(df_LOWmpg)\n",
        "h_F2_LOW= 1.645*F2_std_LOW/np.sqrt(n_LOW)\n",
        "CIL_F2_l=F2_mean_LOW-h_F2_LOW\n",
        "CIL_F2_h=F2_mean_LOW+h_F2_LOW\n",
        "print(\"mean value of displacement at low mpg cases is\",'%.3f'%F2_mean_LOW, \"STD of displacement at low mpg cases is\",'%.3f'%F2_std_LOW, \n",
        "      \"90% Confidence intervals of mean displacement at low mpg is\",'%.3f'%CIL_F2_l,\"to\",'%.3f'%CIL_F2_h)"
      ],
      "execution_count": null,
      "outputs": [
        {
          "output_type": "stream",
          "name": "stdout",
          "text": [
            "mean value of displacement at low mpg cases is 315.308 STD of displacement at low mpg cases is 71.114 90% Confidence intervals of mean displacement at low mpg is 305.048 to 325.568\n"
          ]
        }
      ]
    },
    {
      "cell_type": "code",
      "metadata": {
        "colab": {
          "base_uri": "https://localhost:8080/"
        },
        "id": "0m3R1IKNHIvU",
        "outputId": "324b7f2a-3996-44dd-abf5-f0f12c48ea0f"
      },
      "source": [
        "\n",
        "F2_mean_HIGH=df_HIGHmpg['displacement'].mean()\n",
        "F2_std_HIGH=df_HIGHmpg['displacement'].std()\n",
        "n_HIGH=len(df_HIGHmpg)\n",
        "h_F2_HIGH= 1.645*F2_std_HIGH/np.sqrt(n_HIGH)\n",
        "CIH_F2_l=F2_mean_HIGH-h_F2_HIGH\n",
        "CIH_F2_h=F2_mean_HIGH+h_F2_HIGH\n",
        "print(\"mean value of displacement at high mpg cases is\",'%.3f'%F2_mean_HIGH, \"STD of displacement at high mpg cases is\",'%.3f'%F2_std_HIGH,\n",
        "      \"90% Confidence intervals of mean displacement at high mpg is\",'%.3f'%CIH_F2_l,\"to\",'%.3f'%CIH_F2_h)"
      ],
      "execution_count": null,
      "outputs": [
        {
          "output_type": "stream",
          "name": "stdout",
          "text": [
            "mean value of displacement at high mpg cases is 106.402 STD of displacement at high mpg cases is 26.422 90% Confidence intervals of mean displacement at high mpg is 102.618 to 110.185\n"
          ]
        }
      ]
    },
    {
      "cell_type": "markdown",
      "metadata": {
        "id": "vZ3QX9uqR6Ti"
      },
      "source": [
        "****10.4 For Feature F3=horsepower****\n",
        "\n",
        "---\n",
        "\n",
        "\n",
        "The mean horsepower at low MPG is 145.623   , std is 35.841, 90% CI is [140.452, 150.794];\n",
        "\n",
        "---\n",
        "\n",
        "\n",
        "The mean horsepower at high MPG is 74.394, std is 13.884 , 90% CI is [72.406 to 76.382];\n",
        "\n",
        "---\n",
        "\n",
        "\n",
        "the code is shown as following:"
      ]
    },
    {
      "cell_type": "code",
      "metadata": {
        "colab": {
          "base_uri": "https://localhost:8080/"
        },
        "id": "4aDnbBsYSfG1",
        "outputId": "87e43192-33d3-4a97-9fd1-70677233c971"
      },
      "source": [
        "F3_mean_LOW=df_LOWmpg['horsepower'].mean()\n",
        "F3_std_LOW=df_LOWmpg['horsepower'].std()\n",
        "n_LOW=len(df_LOWmpg)\n",
        "h_F3_LOW= 1.645*F3_std_LOW/np.sqrt(n_LOW)\n",
        "CIL_F3_l=F3_mean_LOW-h_F3_LOW\n",
        "CIL_F3_h=F3_mean_LOW+h_F3_LOW\n",
        "print(\"mean value of horsepower at low mpg cases is\",'%.3f'%F3_mean_LOW, \"STD of horsepower at low mpg cases is\",'%.3f'%F3_std_LOW, \n",
        "      \"90% Confidence intervals of mean horsepower at low mpg is\",'%.3f'%CIL_F3_l,\"to\",'%.3f'%CIL_F3_h)"
      ],
      "execution_count": null,
      "outputs": [
        {
          "output_type": "stream",
          "name": "stdout",
          "text": [
            "mean value of horsepower at low mpg cases is 145.623 STD of horsepower at low mpg cases is 35.841 90% Confidence intervals of mean horsepower at low mpg is 140.452 to 150.794\n"
          ]
        }
      ]
    },
    {
      "cell_type": "code",
      "metadata": {
        "colab": {
          "base_uri": "https://localhost:8080/"
        },
        "id": "QsBD04qgTN6H",
        "outputId": "c145c0c8-adb9-435e-c5ee-922a14505a53"
      },
      "source": [
        "F3_mean_HIGH=df_HIGHmpg['horsepower'].mean()\n",
        "F3_std_HIGH=df_HIGHmpg['horsepower'].std()\n",
        "n_HIGH=len(df_HIGHmpg)\n",
        "h_F3_HIGH= 1.645*F3_std_HIGH/np.sqrt(n_HIGH)\n",
        "CIH_F3_l=F3_mean_HIGH-h_F3_HIGH\n",
        "CIH_F3_h=F3_mean_HIGH+h_F3_HIGH\n",
        "print(\"mean value of horsepower at high mpg cases is\",'%.3f'%F3_mean_HIGH, \"STD of horsepower at high mpg cases is\",'%.3f'%F3_std_HIGH, \n",
        "      \"90% Confidence intervals of mean horsepower at high mpg is\",'%.3f'%CIH_F3_l,\"to\",'%.3f'%CIH_F3_h)"
      ],
      "execution_count": null,
      "outputs": [
        {
          "output_type": "stream",
          "name": "stdout",
          "text": [
            "mean value of horsepower at high mpg cases is 74.394 STD of horsepower at high mpg cases is 13.884 90% Confidence intervals of mean horsepower at high mpg is 72.406 to 76.382\n"
          ]
        }
      ]
    },
    {
      "cell_type": "markdown",
      "metadata": {
        "id": "tosoXxolT6tR"
      },
      "source": [
        "****10.5 For Feature F4=weight****\n",
        "\n",
        "---\n",
        "\n",
        "\n",
        "The mean weight at low MPG is 3937.331   , std is 557.186, 90% CI is [3856.942,4017.719];\n",
        "\n",
        "---\n",
        "\n",
        "\n",
        "The mean weight at high MPG is 2226.091 , std is 345.878 , 90% CI is [2176.569  to 2275.613];\n",
        "\n",
        "---\n",
        "\n",
        "\n",
        "the code is shown as following:"
      ]
    },
    {
      "cell_type": "code",
      "metadata": {
        "colab": {
          "base_uri": "https://localhost:8080/"
        },
        "id": "nvHedQPCTjJZ",
        "outputId": "0c8473e2-0f75-4314-b164-e8d5abe46f14"
      },
      "source": [
        "F4_mean_LOW=df_LOWmpg['weight'].mean()\n",
        "F4_std_LOW=df_LOWmpg['weight'].std()\n",
        "n_LOW=len(df_LOWmpg)\n",
        "h_F4_LOW= 1.645*F4_std_LOW/np.sqrt(n_LOW)\n",
        "CIL_F4_l=F4_mean_LOW-h_F4_LOW\n",
        "CIL_F4_h=F4_mean_LOW+h_F4_LOW\n",
        "print(\"mean value of weight at low mpg cases is\",'%.3f'%F4_mean_LOW, \"STD of weight at low mpg cases is\",'%.3f'%F4_std_LOW, \n",
        "      \"90% Confidence intervals of mean weight at low mpg is\",'%.3f'%CIL_F4_l,\"to\",'%.3f'%CIL_F4_h)"
      ],
      "execution_count": null,
      "outputs": [
        {
          "output_type": "stream",
          "name": "stdout",
          "text": [
            "mean value of weight at low mpg cases is 3937.331 STD of weight at low mpg cases is 557.186 90% Confidence intervals of mean weight at low mpg is 3856.942 to 4017.719\n"
          ]
        }
      ]
    },
    {
      "cell_type": "code",
      "metadata": {
        "colab": {
          "base_uri": "https://localhost:8080/"
        },
        "id": "GDR9eqPsTjDo",
        "outputId": "83144519-08e7-4a21-b105-d3e66ae6c026"
      },
      "source": [
        "F4_mean_HIGH=df_HIGHmpg['weight'].mean()\n",
        "F4_std_HIGH=df_HIGHmpg['weight'].std()\n",
        "n_HIGH=len(df_HIGHmpg)\n",
        "h_F4_HIGH= 1.645*F4_std_HIGH/np.sqrt(n_HIGH)\n",
        "CIH_F4_l=F4_mean_HIGH-h_F4_HIGH\n",
        "CIH_F4_h=F4_mean_HIGH+h_F4_HIGH\n",
        "print(\"mean value of weight at high mpg cases is\",'%.3f'%F4_mean_HIGH, \"STD of weight at high mpg cases is\",'%.3f'%F4_std_HIGH, \n",
        "      \"90% Confidence intervals of mean weight at high mpg is\",'%.3f'%CIH_F4_l,\"to\",'%.3f'%CIH_F4_h)"
      ],
      "execution_count": null,
      "outputs": [
        {
          "output_type": "stream",
          "name": "stdout",
          "text": [
            "mean value of weight at high mpg cases is 2226.091 STD of weight at high mpg cases is 345.878 90% Confidence intervals of mean weight at high mpg is 2176.569 to 2275.613\n"
          ]
        }
      ]
    },
    {
      "cell_type": "markdown",
      "metadata": {
        "id": "RVfNSqhEWUCy"
      },
      "source": [
        "****10.6 For Feature F5=acceleration****\n",
        "\n",
        "---\n",
        "\n",
        "\n",
        "The mean acceleration at low MPG is 13.778  , std is 2.649  , 90% CI is [13.396,14.161];\n",
        "\n",
        "---\n",
        "\n",
        "\n",
        "The mean acceleration at high MPG is 16.5611 , std is 2.520 , 90% CI is [16.200,16.921];\n",
        "\n",
        "---\n",
        "\n",
        "\n",
        "the code is shown as following:"
      ]
    },
    {
      "cell_type": "code",
      "metadata": {
        "colab": {
          "base_uri": "https://localhost:8080/"
        },
        "id": "bJBJUBZKTjAC",
        "outputId": "7e2a1370-2422-4d24-ce7c-910970b091fb"
      },
      "source": [
        "F5_mean_LOW=df_LOWmpg['acceleration'].mean()\n",
        "F5_std_LOW=df_LOWmpg['acceleration'].std()\n",
        "n_LOW=len(df_LOWmpg)\n",
        "h_F5_LOW= 1.645*F5_std_LOW/np.sqrt(n_LOW)\n",
        "CIL_F5_l=F5_mean_LOW-h_F5_LOW\n",
        "CIL_F5_h=F5_mean_LOW+h_F5_LOW\n",
        "print(\"mean value of acceleration at low mpg cases is\",'%.3f'%F5_mean_LOW, \"STD of acceleration at low mpg cases is\",'%.3f'%F5_std_LOW, \n",
        "      \"90% Confidence intervals of mean acceleration at low mpg is\",'%.3f'%CIL_F5_l,\"to\",'%.3f'%CIL_F5_h)"
      ],
      "execution_count": null,
      "outputs": [
        {
          "output_type": "stream",
          "name": "stdout",
          "text": [
            "mean value of acceleration at low mpg cases is 13.778 STD of acceleration at low mpg cases is 2.649 90% Confidence intervals of mean acceleration at low mpg is 13.396 to 14.161\n"
          ]
        }
      ]
    },
    {
      "cell_type": "code",
      "metadata": {
        "colab": {
          "base_uri": "https://localhost:8080/"
        },
        "id": "0lpWtYX8UEcB",
        "outputId": "28ef34e9-fb10-4feb-fe56-54303af88fc3"
      },
      "source": [
        "F5_mean_HIGH=df_HIGHmpg['acceleration'].mean()\n",
        "F5_std_HIGH=df_HIGHmpg['acceleration'].std()\n",
        "n_HIGH=len(df_HIGHmpg)\n",
        "h_F5_HIGH= 1.645*F5_std_HIGH/np.sqrt(n_HIGH)\n",
        "CIH_F5_l=F5_mean_HIGH-h_F5_HIGH\n",
        "CIH_F5_h=F5_mean_HIGH+h_F5_HIGH\n",
        "print(\"mean value of acceleration at high mpg cases is\",'%.3f'%F5_mean_HIGH, \"STD of acceleration at high mpg cases is\",'%.3f'%F5_std_HIGH, \n",
        "      \"90% Confidence intervals of mean acceleration at high mpg is\",'%.3f'%CIH_F5_l,\"to\",'%.3f'%CIH_F5_h)"
      ],
      "execution_count": null,
      "outputs": [
        {
          "output_type": "stream",
          "name": "stdout",
          "text": [
            "mean value of acceleration at high mpg cases is 16.561 STD of acceleration at high mpg cases is 2.520 90% Confidence intervals of mean acceleration at high mpg is 16.200 to 16.921\n"
          ]
        }
      ]
    },
    {
      "cell_type": "markdown",
      "metadata": {
        "id": "9d0J3aONdqhr"
      },
      "source": [
        "### **11) Application of the Automatic Classifier KNN**\n",
        "Randomly partition 80%/20% each one of the 3 classes CL1= LOWmpg, CL2 =MEDmpg, CL3 =HIGHmpg\n",
        "regroup these three partitions to construct then a global trainingset TRAIN and a global test set TEST of\n",
        "sizes 80% xM and 20%xM\n",
        "fix k= 5\n",
        "apply the kNN algorithm to this data set\n",
        "\n",
        "compute the two accuracies AccTrain and AccTest of automatic classification by kNN on the two sets\n",
        "TRAIN and TEST\n",
        "compare these two accuracies"
      ]
    },
    {
      "cell_type": "markdown",
      "metadata": {
        "id": "0JXmgQOiJrcJ"
      },
      "source": [
        "****11.1 Data Sorting****"
      ]
    },
    {
      "cell_type": "code",
      "metadata": {
        "id": "YpVc0dfJiqMh",
        "colab": {
          "base_uri": "https://localhost:8080/"
        },
        "outputId": "003963e1-3c26-495a-990e-e4d85417a790"
      },
      "source": [
        "#labeling the three class of data set, and saying CL1 which is low mpg is 0, CL2 is 1 and CL3 is 2\n",
        "df_LOWmpg['class']=0\n",
        "df_MEDmpg['class']=1\n",
        "df_HIGHmpg['class']=2"
      ],
      "execution_count": null,
      "outputs": [
        {
          "output_type": "stream",
          "name": "stderr",
          "text": [
            "/usr/local/lib/python3.7/dist-packages/ipykernel_launcher.py:2: SettingWithCopyWarning: \n",
            "A value is trying to be set on a copy of a slice from a DataFrame.\n",
            "Try using .loc[row_indexer,col_indexer] = value instead\n",
            "\n",
            "See the caveats in the documentation: https://pandas.pydata.org/pandas-docs/stable/user_guide/indexing.html#returning-a-view-versus-a-copy\n",
            "  \n",
            "/usr/local/lib/python3.7/dist-packages/ipykernel_launcher.py:3: SettingWithCopyWarning: \n",
            "A value is trying to be set on a copy of a slice from a DataFrame.\n",
            "Try using .loc[row_indexer,col_indexer] = value instead\n",
            "\n",
            "See the caveats in the documentation: https://pandas.pydata.org/pandas-docs/stable/user_guide/indexing.html#returning-a-view-versus-a-copy\n",
            "  This is separate from the ipykernel package so we can avoid doing imports until\n",
            "/usr/local/lib/python3.7/dist-packages/ipykernel_launcher.py:4: SettingWithCopyWarning: \n",
            "A value is trying to be set on a copy of a slice from a DataFrame.\n",
            "Try using .loc[row_indexer,col_indexer] = value instead\n",
            "\n",
            "See the caveats in the documentation: https://pandas.pydata.org/pandas-docs/stable/user_guide/indexing.html#returning-a-view-versus-a-copy\n",
            "  after removing the cwd from sys.path.\n"
          ]
        }
      ]
    },
    {
      "cell_type": "code",
      "metadata": {
        "colab": {
          "base_uri": "https://localhost:8080/"
        },
        "id": "sdCT7kfvptTu",
        "outputId": "1cab45a0-be88-463a-8495-22067a12ea18"
      },
      "source": [
        "len(df_HIGHmpg)"
      ],
      "execution_count": null,
      "outputs": [
        {
          "output_type": "execute_result",
          "data": {
            "text/plain": [
              "132"
            ]
          },
          "metadata": {},
          "execution_count": 87
        }
      ]
    },
    {
      "cell_type": "code",
      "metadata": {
        "colab": {
          "base_uri": "https://localhost:8080/"
        },
        "id": "LhEq-fE8nwPR",
        "outputId": "e519adea-c497-4d9d-f8e5-e328f4860723"
      },
      "source": [
        "df_LOWmpg.head(),df_MEDmpg.head(),df_HIGHmpg.head()"
      ],
      "execution_count": null,
      "outputs": [
        {
          "output_type": "execute_result",
          "data": {
            "text/plain": [
              "(    mpg  cylinders  displacement  horsepower  weight  acceleration  class\n",
              " 0  18.0          8         307.0         130    3504          12.0      0\n",
              " 1  15.0          8         350.0         165    3693          11.5      0\n",
              " 2  18.0          8         318.0         150    3436          11.0      0\n",
              " 3  16.0          8         304.0         150    3433          12.0      0\n",
              " 4  17.0          8         302.0         140    3449          10.5      0,\n",
              "      mpg  cylinders  displacement  horsepower  weight  acceleration  class\n",
              " 14  24.0          4         113.0          95    2372          15.0      1\n",
              " 15  22.0          6         198.0          95    2833          15.5      1\n",
              " 17  21.0          6         200.0          85    2587          16.0      1\n",
              " 19  26.0          4          97.0          46    1835          20.5      1\n",
              " 20  25.0          4         110.0          87    2672          17.5      1,\n",
              "      mpg  cylinders  displacement  horsepower  weight  acceleration  class\n",
              " 18  27.0          4          97.0          88    2130          14.5      2\n",
              " 29  27.0          4          97.0          88    2130          14.5      2\n",
              " 30  28.0          4         140.0          90    2264          15.5      2\n",
              " 49  28.0          4         116.0          90    2123          14.0      2\n",
              " 50  30.0          4          79.0          70    2074          19.5      2)"
            ]
          },
          "metadata": {},
          "execution_count": 88
        }
      ]
    },
    {
      "cell_type": "code",
      "metadata": {
        "colab": {
          "base_uri": "https://localhost:8080/"
        },
        "id": "Z9a-8RDwmAlZ",
        "outputId": "88482d14-2082-4be2-d466-bf14b09905c5"
      },
      "source": [
        "#separate x and y for each class;\n",
        "#x is the 5 features and y is the classification label\n",
        "x1=df_LOWmpg.iloc[:,1:6]\n",
        "y1=df_LOWmpg.iloc[:,6]\n",
        "x2=df_MEDmpg.iloc[:,1:6]\n",
        "y2=df_MEDmpg.iloc[:,6]\n",
        "x3=df_HIGHmpg.iloc[:,1:6]\n",
        "y3=df_HIGHmpg.iloc[:,6]\n",
        "print(x1.shape,y1.shape,x2.shape,y2.shape,x3.shape,y3.shape)"
      ],
      "execution_count": null,
      "outputs": [
        {
          "output_type": "stream",
          "name": "stdout",
          "text": [
            "(130, 5) (130,) (130, 5) (130,) (132, 5) (132,)\n"
          ]
        }
      ]
    },
    {
      "cell_type": "code",
      "metadata": {
        "colab": {
          "base_uri": "https://localhost:8080/",
          "height": 204
        },
        "id": "WdkW3_cOqj3T",
        "outputId": "c91074f8-64a4-493f-8647-da85ac2a0f74"
      },
      "source": [
        "x1.head()"
      ],
      "execution_count": null,
      "outputs": [
        {
          "output_type": "execute_result",
          "data": {
            "text/html": [
              "<div>\n",
              "<style scoped>\n",
              "    .dataframe tbody tr th:only-of-type {\n",
              "        vertical-align: middle;\n",
              "    }\n",
              "\n",
              "    .dataframe tbody tr th {\n",
              "        vertical-align: top;\n",
              "    }\n",
              "\n",
              "    .dataframe thead th {\n",
              "        text-align: right;\n",
              "    }\n",
              "</style>\n",
              "<table border=\"1\" class=\"dataframe\">\n",
              "  <thead>\n",
              "    <tr style=\"text-align: right;\">\n",
              "      <th></th>\n",
              "      <th>cylinders</th>\n",
              "      <th>displacement</th>\n",
              "      <th>horsepower</th>\n",
              "      <th>weight</th>\n",
              "      <th>acceleration</th>\n",
              "    </tr>\n",
              "  </thead>\n",
              "  <tbody>\n",
              "    <tr>\n",
              "      <th>0</th>\n",
              "      <td>8</td>\n",
              "      <td>307.0</td>\n",
              "      <td>130</td>\n",
              "      <td>3504</td>\n",
              "      <td>12.0</td>\n",
              "    </tr>\n",
              "    <tr>\n",
              "      <th>1</th>\n",
              "      <td>8</td>\n",
              "      <td>350.0</td>\n",
              "      <td>165</td>\n",
              "      <td>3693</td>\n",
              "      <td>11.5</td>\n",
              "    </tr>\n",
              "    <tr>\n",
              "      <th>2</th>\n",
              "      <td>8</td>\n",
              "      <td>318.0</td>\n",
              "      <td>150</td>\n",
              "      <td>3436</td>\n",
              "      <td>11.0</td>\n",
              "    </tr>\n",
              "    <tr>\n",
              "      <th>3</th>\n",
              "      <td>8</td>\n",
              "      <td>304.0</td>\n",
              "      <td>150</td>\n",
              "      <td>3433</td>\n",
              "      <td>12.0</td>\n",
              "    </tr>\n",
              "    <tr>\n",
              "      <th>4</th>\n",
              "      <td>8</td>\n",
              "      <td>302.0</td>\n",
              "      <td>140</td>\n",
              "      <td>3449</td>\n",
              "      <td>10.5</td>\n",
              "    </tr>\n",
              "  </tbody>\n",
              "</table>\n",
              "</div>"
            ],
            "text/plain": [
              "   cylinders  displacement  horsepower  weight  acceleration\n",
              "0          8         307.0         130    3504          12.0\n",
              "1          8         350.0         165    3693          11.5\n",
              "2          8         318.0         150    3436          11.0\n",
              "3          8         304.0         150    3433          12.0\n",
              "4          8         302.0         140    3449          10.5"
            ]
          },
          "metadata": {},
          "execution_count": 90
        }
      ]
    },
    {
      "cell_type": "code",
      "metadata": {
        "colab": {
          "base_uri": "https://localhost:8080/"
        },
        "id": "n3ilj4W3rw5C",
        "outputId": "0b822f7d-9595-4d16-ac50-5dc89c986aae"
      },
      "source": [
        "y1.head()"
      ],
      "execution_count": null,
      "outputs": [
        {
          "output_type": "execute_result",
          "data": {
            "text/plain": [
              "0    0\n",
              "1    0\n",
              "2    0\n",
              "3    0\n",
              "4    0\n",
              "Name: class, dtype: int64"
            ]
          },
          "metadata": {},
          "execution_count": 91
        }
      ]
    },
    {
      "cell_type": "code",
      "metadata": {
        "id": "DD02a8x9Ti6F"
      },
      "source": [
        "#randomly partition 80%/20% each one of the 3 classes;\n",
        "from sklearn.model_selection import train_test_split\n",
        "x1_train,x1_test,y1_train,y1_test=train_test_split(x1,y1,test_size=0.2,random_state=11)\n",
        "x2_train,x2_test,y2_train,y2_test=train_test_split(x2,y2,test_size=0.2,random_state=11)\n",
        "x3_train,x3_test,y3_train,y3_test=train_test_split(x3,y3,test_size=0.2,random_state=11)"
      ],
      "execution_count": null,
      "outputs": []
    },
    {
      "cell_type": "code",
      "metadata": {
        "colab": {
          "base_uri": "https://localhost:8080/"
        },
        "id": "0bsxketEpc5G",
        "outputId": "20c17361-24c1-4ee2-8ffe-e910a8cfd44a"
      },
      "source": [
        "print(x1_train.shape,x1_test.shape,y1_train.shape,y1_test.shape)"
      ],
      "execution_count": null,
      "outputs": [
        {
          "output_type": "stream",
          "name": "stdout",
          "text": [
            "(104, 5) (26, 5) (104,) (26,)\n"
          ]
        }
      ]
    },
    {
      "cell_type": "code",
      "metadata": {
        "colab": {
          "base_uri": "https://localhost:8080/"
        },
        "id": "IyHGm64UphjD",
        "outputId": "105768c7-d30f-445f-d5bf-0da70173d484"
      },
      "source": [
        "print(x2_train.shape,x2_test.shape,y2_train.shape,y2_test.shape)"
      ],
      "execution_count": null,
      "outputs": [
        {
          "output_type": "stream",
          "name": "stdout",
          "text": [
            "(104, 5) (26, 5) (104,) (26,)\n"
          ]
        }
      ]
    },
    {
      "cell_type": "code",
      "metadata": {
        "colab": {
          "base_uri": "https://localhost:8080/"
        },
        "id": "roZuXg9Zpmn4",
        "outputId": "67eb340e-e655-4ba5-866f-68dfac307c51"
      },
      "source": [
        "print(x3_train.shape,x3_test.shape,y3_train.shape,y3_test.shape)"
      ],
      "execution_count": null,
      "outputs": [
        {
          "output_type": "stream",
          "name": "stdout",
          "text": [
            "(105, 5) (27, 5) (105,) (27,)\n"
          ]
        }
      ]
    },
    {
      "cell_type": "code",
      "metadata": {
        "colab": {
          "base_uri": "https://localhost:8080/"
        },
        "id": "zY3plhSQoMrm",
        "outputId": "d88a1e8e-a79f-457b-b050-4bf847bd1807"
      },
      "source": [
        "#combine train and test data set of all three classes together\n",
        "x_train=pd.concat([x1_train,x2_train,x3_train],axis=0).to_numpy()\n",
        "x_test=pd.concat([x1_test,x2_test,x3_test],axis=0).to_numpy()\n",
        "\n",
        "y_train=pd.concat([y1_train,y2_train,y3_train],axis=0).to_numpy()\n",
        "y_test=pd.concat([y1_test,y2_test,y3_test],axis=0).to_numpy()\n",
        "\n",
        "print(x_train.shape,x_test.shape,y_train.shape,y_test.shape)"
      ],
      "execution_count": null,
      "outputs": [
        {
          "output_type": "stream",
          "name": "stdout",
          "text": [
            "(313, 5) (79, 5) (313,) (79,)\n"
          ]
        }
      ]
    },
    {
      "cell_type": "code",
      "metadata": {
        "colab": {
          "base_uri": "https://localhost:8080/"
        },
        "id": "QROBjAZYti2X",
        "outputId": "e92946ee-17af-4a97-f7ff-26a5afd640b3"
      },
      "source": [
        "y_test.shape"
      ],
      "execution_count": null,
      "outputs": [
        {
          "output_type": "execute_result",
          "data": {
            "text/plain": [
              "(79,)"
            ]
          },
          "metadata": {},
          "execution_count": 97
        }
      ]
    },
    {
      "cell_type": "code",
      "metadata": {
        "colab": {
          "base_uri": "https://localhost:8080/"
        },
        "id": "9GwUiJo5spqa",
        "outputId": "c775b6fc-77e6-4637-d6ec-470c9c4dc819"
      },
      "source": [
        "import tensorflow as tf\n",
        "depth=3\n",
        "y_train_Truelabel=tf.one_hot(y_train,depth)\n",
        "y_test_Truelabel=tf.one_hot(y_test,depth)\n",
        "print(y_train_Truelabel.shape,y_test_Truelabel.shape)"
      ],
      "execution_count": null,
      "outputs": [
        {
          "output_type": "stream",
          "name": "stdout",
          "text": [
            "(313, 3) (79, 3)\n"
          ]
        }
      ]
    },
    {
      "cell_type": "markdown",
      "metadata": {
        "id": "cwtiJtOMu0Pd"
      },
      "source": [
        "****11.2 Fit the KNN model****"
      ]
    },
    {
      "cell_type": "code",
      "metadata": {
        "colab": {
          "base_uri": "https://localhost:8080/"
        },
        "id": "1OEOh893uzvb",
        "outputId": "d5b1e5e7-5267-42c3-bc0b-c30d6e154885"
      },
      "source": [
        "from sklearn.neighbors import KNeighborsClassifier\n",
        "model = KNeighborsClassifier(n_neighbors=5)\n",
        "model.fit(x_train,y_train_Truelabel)"
      ],
      "execution_count": null,
      "outputs": [
        {
          "output_type": "execute_result",
          "data": {
            "text/plain": [
              "KNeighborsClassifier(algorithm='auto', leaf_size=30, metric='minkowski',\n",
              "                     metric_params=None, n_jobs=None, n_neighbors=5, p=2,\n",
              "                     weights='uniform')"
            ]
          },
          "metadata": {},
          "execution_count": 102
        }
      ]
    },
    {
      "cell_type": "code",
      "metadata": {
        "id": "d90AdeEavBlV"
      },
      "source": [
        "#predit y_train and y_test and argmax to label\n",
        "y_train_predlabel= model.predict(x_train) \n",
        "y_test_predlabel=model.predict(x_test)\n",
        "\n",
        "y_train_pred = np.argmax(y_train_predlabel,axis=1)  \n",
        "y_test_pred = np.argmax(y_test_predlabel,axis=1)"
      ],
      "execution_count": null,
      "outputs": []
    },
    {
      "cell_type": "code",
      "metadata": {
        "colab": {
          "base_uri": "https://localhost:8080/"
        },
        "id": "c2_cpaA3vETN",
        "outputId": "841d9148-9b73-43e4-a1e2-29c40de85331"
      },
      "source": [
        "from sklearn import metrics\n",
        "## Model Accuracy\n",
        "print(\"Accuracy of training set:\",metrics.accuracy_score(y_train, y_train_pred))\n",
        "print(\"Accuracy of test set:\",metrics.accuracy_score(y_test, y_test_pred))"
      ],
      "execution_count": null,
      "outputs": [
        {
          "output_type": "stream",
          "name": "stdout",
          "text": [
            "Accuracy of training set: 0.7763578274760383\n",
            "Accuracy of test set: 0.7848101265822784\n"
          ]
        }
      ]
    },
    {
      "cell_type": "code",
      "metadata": {
        "colab": {
          "base_uri": "https://localhost:8080/",
          "height": 298
        },
        "id": "T0oWtN9gyiDv",
        "outputId": "40c36bb8-7105-4549-db8a-da85e6ac2897"
      },
      "source": [
        "sns.heatmap(tf.math.confusion_matrix(y_train,y_train_pred),annot = True, center= 0, cmap= 'RdBu').set_title('KNN(n=5) Confusion Matrix of Train Data')"
      ],
      "execution_count": null,
      "outputs": [
        {
          "output_type": "execute_result",
          "data": {
            "text/plain": [
              "Text(0.5, 1.0, 'KNN(n=5) Confusion Matrix of Train Data')"
            ]
          },
          "metadata": {},
          "execution_count": 107
        },
        {
          "output_type": "display_data",
          "data": {
            "image/png": "[encoded data removed]",
            "text/plain": [
              "<Figure size 432x288 with 2 Axes>"
            ]
          },
          "metadata": {
            "needs_background": "light"
          }
        }
      ]
    },
    {
      "cell_type": "code",
      "metadata": {
        "colab": {
          "base_uri": "https://localhost:8080/",
          "height": 298
        },
        "id": "SR9LA6a5w-Hr",
        "outputId": "a20f8e73-ec06-454e-e06f-2016b7c4e53a"
      },
      "source": [
        "sns.heatmap(tf.math.confusion_matrix(y_test,y_test_pred),annot = True, center= 0, cmap= 'RdBu').set_title('KNN(n=5) Confusion Matrix of Test Data')"
      ],
      "execution_count": null,
      "outputs": [
        {
          "output_type": "execute_result",
          "data": {
            "text/plain": [
              "Text(0.5, 1.0, 'KNN(n=5) Confusion Matrix of Test Data')"
            ]
          },
          "metadata": {},
          "execution_count": 108
        },
        {
          "output_type": "display_data",
          "data": {
            "image/png": "[encoded data removed]",
            "text/plain": [
              "<Figure size 432x288 with 2 Axes>"
            ]
          },
          "metadata": {
            "needs_background": "light"
          }
        }
      ]
    },
    {
      "cell_type": "markdown",
      "metadata": {
        "id": "5q7vUyebyaQt"
      },
      "source": [
        "From KNN classification above, in train data set, 77.6% classification is correct.\n",
        "In test data set, there are 25+16+21=62 cases are classified right, therefore the accuracy rate is 62/79(total case)=78.48%"
      ]
    },
    {
      "cell_type": "markdown",
      "metadata": {
        "id": "KCn7x00zzMrM"
      },
      "source": [
        "Please note that there are big scale difference between the 5 feature values, the classification above wasn't done by nomalized data. In following coding, the same KNN will be repeated, but the normalized data will be used to testify if data normalization will improve the classification accuracy. \n",
        "the maximum value of the 5 features are showing below."
      ]
    },
    {
      "cell_type": "markdown",
      "metadata": {
        "id": "toFiWehbt5ut"
      },
      "source": [
        "****11.3 Normalize Data and Then Redo KNN Classifier****"
      ]
    },
    {
      "cell_type": "code",
      "metadata": {
        "colab": {
          "base_uri": "https://localhost:8080/"
        },
        "id": "fJs52yxg0Ir3",
        "outputId": "fe645673-4538-40af-a17a-b0bc08137bcb"
      },
      "source": [
        "normaliz_coef=[max(df.iloc[:,1]),max(df.iloc[:,2]),max(df.iloc[:,3]),max(df.iloc[:,4]),max(df.iloc[:,5])]\n",
        "normaliz_coef"
      ],
      "execution_count": null,
      "outputs": [
        {
          "output_type": "execute_result",
          "data": {
            "text/plain": [
              "[8, 455.0, 230, 5140, 24.8]"
            ]
          },
          "metadata": {},
          "execution_count": 109
        }
      ]
    },
    {
      "cell_type": "code",
      "metadata": {
        "id": "j8LkRSFl1Puw"
      },
      "source": [
        "x_train_norm=x_train/normaliz_coef\n",
        "x_test_norm=x_test/normaliz_coef"
      ],
      "execution_count": null,
      "outputs": []
    },
    {
      "cell_type": "code",
      "metadata": {
        "colab": {
          "base_uri": "https://localhost:8080/"
        },
        "id": "PEJyh8zf3qEB",
        "outputId": "565f66d2-8a9f-4be1-bf0b-1605a9c00a26"
      },
      "source": [
        "len(x_train_norm),len(y_train_Truelabel)"
      ],
      "execution_count": null,
      "outputs": [
        {
          "output_type": "execute_result",
          "data": {
            "text/plain": [
              "(313, 313)"
            ]
          },
          "metadata": {},
          "execution_count": 111
        }
      ]
    },
    {
      "cell_type": "code",
      "metadata": {
        "colab": {
          "base_uri": "https://localhost:8080/"
        },
        "id": "1Fm0jzVU2P5b",
        "outputId": "668061b7-87bb-49dc-d333-8fcfb8e2f9d5"
      },
      "source": [
        "#Generate KNN model by normalized dataset\n",
        "from sklearn.neighbors import KNeighborsClassifier\n",
        "NORM_modelN5 = KNeighborsClassifier(n_neighbors=5)\n",
        "NORM_modelN5.fit(x_train_norm,y_train_Truelabel)\n",
        "#predit y_train and y_test and argmax to label\n",
        "NORM_y_train_predlabel= NORM_modelN5.predict(x_train_norm) \n",
        "NORM_y_test_predlabel=NORM_modelN5.predict(x_test_norm)\n",
        "\n",
        "NORM_y_train_pred = np.argmax(NORM_y_train_predlabel,axis=1)  \n",
        "NORM_y_test_pred = np.argmax(NORM_y_test_predlabel,axis=1)\n",
        "\n",
        "#Model Accuracy\n",
        "from sklearn import metrics\n",
        "ACCTrain5=metrics.accuracy_score(y_train, NORM_y_train_pred)\n",
        "AccTest5=metrics.accuracy_score(y_test, NORM_y_test_pred)\n",
        "print(\"Accuracy of training set:\",ACCTrain5)\n",
        "print(\"Accuracy of test set:\",AccTest5)"
      ],
      "execution_count": null,
      "outputs": [
        {
          "output_type": "stream",
          "name": "stdout",
          "text": [
            "Accuracy of training set: 0.8242811501597445\n",
            "Accuracy of test set: 0.810126582278481\n"
          ]
        }
      ]
    },
    {
      "cell_type": "markdown",
      "metadata": {
        "id": "zLToqo6I4Nf1"
      },
      "source": [
        "Now, the KNN by normalized data accuracy has been improved from 77% and 78% to 82% and 81%. From the confusion matrix below, \n",
        "\n",
        "---\n",
        "\n",
        "\n",
        "in train data set, 92 of 104 for CL1, 78 of 104 for CL2 and 88 of 105. Indeed, there are 30 type I errors and 25 type II errors.\n",
        "\n",
        "---\n",
        "\n",
        "\n",
        "In Test data set, 21 of 26 for CL1, 20 of 26 for CL2 and 23 of 27 for CL3 were right. Indeed, there are 9 type I errors and 6 type II errors."
      ]
    },
    {
      "cell_type": "code",
      "metadata": {
        "colab": {
          "base_uri": "https://localhost:8080/",
          "height": 298
        },
        "id": "SXDwwQ-r4EuZ",
        "outputId": "b2b09ea7-c45c-467e-ce56-3ca86e7a5e00"
      },
      "source": [
        "sns.heatmap(tf.math.confusion_matrix(y_train,NORM_y_train_pred),annot = True, center= 0, cmap= 'YlGnBu').set_title('KNN(n=5) Confusion Matrix of Train_Norm')"
      ],
      "execution_count": null,
      "outputs": [
        {
          "output_type": "execute_result",
          "data": {
            "text/plain": [
              "Text(0.5, 1.0, 'KNN(n=5) Confusion Matrix of Train_Norm')"
            ]
          },
          "metadata": {},
          "execution_count": 113
        },
        {
          "output_type": "display_data",
          "data": {
            "image/png": "[encoded data removed]",
            "text/plain": [
              "<Figure size 432x288 with 2 Axes>"
            ]
          },
          "metadata": {
            "needs_background": "light"
          }
        }
      ]
    },
    {
      "cell_type": "code",
      "metadata": {
        "colab": {
          "base_uri": "https://localhost:8080/",
          "height": 298
        },
        "id": "tgKPmyv64xJo",
        "outputId": "5b36d013-0096-428c-a5e3-2a4fb221fd0a"
      },
      "source": [
        "sns.heatmap(tf.math.confusion_matrix(y_test,NORM_y_test_pred),annot = True, center= 0, cmap= 'YlGnBu').set_title('KNN(n=5) Confusion Matrix of Test_Norm')"
      ],
      "execution_count": null,
      "outputs": [
        {
          "output_type": "execute_result",
          "data": {
            "text/plain": [
              "Text(0.5, 1.0, 'KNN(n=5) Confusion Matrix of Test_Norm')"
            ]
          },
          "metadata": {},
          "execution_count": 114
        },
        {
          "output_type": "display_data",
          "data": {
            "image/png": "[encoded data removed]",
            "text/plain": [
              "<Figure size 432x288 with 2 Axes>"
            ]
          },
          "metadata": {
            "needs_background": "light"
          }
        }
      ]
    },
    {
      "cell_type": "markdown",
      "metadata": {
        "id": "_il8ZBcG6QqK"
      },
      "source": [
        "### ***12. Repeat the preceding KNN for k=3,5,7,9,11,13,15,17,19,29,39 plot on same graph the two accuracy cures AccTrain and AccTest versus k to get the best value of k.***"
      ]
    },
    {
      "cell_type": "code",
      "metadata": {
        "id": "iXq98QHYA3mc",
        "colab": {
          "base_uri": "https://localhost:8080/",
          "height": 215
        },
        "outputId": "275f6d4b-060a-4206-e1cd-09a89b4c784e"
      },
      "source": [
        "k=[3,5,7,9,11,13,15,17,19,29,39]\n",
        "ACCTrain=[ACCTrain3,ACCTrain5,ACCTrain7,ACCTrain9,ACCTrain11,\n",
        "          ACCTrain13,ACCTrain15,ACCTrain17,ACCTrain19,ACCTrain29,ACCTrain39]\n",
        "AccTest=[AccTest3,AccTest5,AccTest7,AccTest9,AccTest11,AccTest13,AccTest15,AccTest17,AccTest19,AccTest29,AccTest39]"
      ],
      "execution_count": null,
      "outputs": [
        {
          "output_type": "error",
          "ename": "NameError",
          "evalue": "ignored",
          "traceback": [
            "\u001b[0;31m---------------------------------------------------------------------------\u001b[0m",
            "\u001b[0;31mNameError\u001b[0m                                 Traceback (most recent call last)",
            "\u001b[0;32m<ipython-input-2-ca3046cfd5e3>\u001b[0m in \u001b[0;36m<module>\u001b[0;34m()\u001b[0m\n\u001b[1;32m      1\u001b[0m \u001b[0mk\u001b[0m\u001b[0;34m=\u001b[0m\u001b[0;34m[\u001b[0m\u001b[0;36m3\u001b[0m\u001b[0;34m,\u001b[0m\u001b[0;36m5\u001b[0m\u001b[0;34m,\u001b[0m\u001b[0;36m7\u001b[0m\u001b[0;34m,\u001b[0m\u001b[0;36m9\u001b[0m\u001b[0;34m,\u001b[0m\u001b[0;36m11\u001b[0m\u001b[0;34m,\u001b[0m\u001b[0;36m13\u001b[0m\u001b[0;34m,\u001b[0m\u001b[0;36m15\u001b[0m\u001b[0;34m,\u001b[0m\u001b[0;36m17\u001b[0m\u001b[0;34m,\u001b[0m\u001b[0;36m19\u001b[0m\u001b[0;34m,\u001b[0m\u001b[0;36m29\u001b[0m\u001b[0;34m,\u001b[0m\u001b[0;36m39\u001b[0m\u001b[0;34m]\u001b[0m\u001b[0;34m\u001b[0m\u001b[0;34m\u001b[0m\u001b[0m\n\u001b[0;32m----> 2\u001b[0;31m ACCTrain=[ACCTrain3,ACCTrain5,ACCTrain7,ACCTrain9,ACCTrain11,\n\u001b[0m\u001b[1;32m      3\u001b[0m           ACCTrain13,ACCTrain15,ACCTrain17,ACCTrain19,ACCTrain29,ACCTrain39]\n\u001b[1;32m      4\u001b[0m \u001b[0mAccTest\u001b[0m\u001b[0;34m=\u001b[0m\u001b[0;34m[\u001b[0m\u001b[0mAccTest3\u001b[0m\u001b[0;34m,\u001b[0m\u001b[0mAccTest5\u001b[0m\u001b[0;34m,\u001b[0m\u001b[0mAccTest7\u001b[0m\u001b[0;34m,\u001b[0m\u001b[0mAccTest9\u001b[0m\u001b[0;34m,\u001b[0m\u001b[0mAccTest11\u001b[0m\u001b[0;34m,\u001b[0m\u001b[0mAccTest13\u001b[0m\u001b[0;34m,\u001b[0m\u001b[0mAccTest15\u001b[0m\u001b[0;34m,\u001b[0m\u001b[0mAccTest17\u001b[0m\u001b[0;34m,\u001b[0m\u001b[0mAccTest19\u001b[0m\u001b[0;34m,\u001b[0m\u001b[0mAccTest29\u001b[0m\u001b[0;34m,\u001b[0m\u001b[0mAccTest39\u001b[0m\u001b[0;34m]\u001b[0m\u001b[0;34m\u001b[0m\u001b[0;34m\u001b[0m\u001b[0m\n",
            "\u001b[0;31mNameError\u001b[0m: name 'ACCTrain3' is not defined"
          ]
        }
      ]
    },
    {
      "cell_type": "code",
      "metadata": {
        "colab": {
          "base_uri": "https://localhost:8080/"
        },
        "id": "abRvFsn0AT1_",
        "outputId": "5b6af5d9-474e-4212-c276-02ac31505edf"
      },
      "source": [
        "np.std(AccTest)"
      ],
      "execution_count": null,
      "outputs": [
        {
          "output_type": "execute_result",
          "data": {
            "text/plain": [
              "0.03513081132905351"
            ]
          },
          "metadata": {},
          "execution_count": 128
        }
      ]
    },
    {
      "cell_type": "code",
      "metadata": {
        "colab": {
          "base_uri": "https://localhost:8080/",
          "height": 279
        },
        "id": "hgxLZNiCCtQW",
        "outputId": "739223a4-4a0c-450d-d033-ad9b581b2049"
      },
      "source": [
        "#Run this plotting code after all rest of code been run\n",
        "plt.plot(k,ACCTrain,label=\"accuracy of training set\")\n",
        "plt.plot(k,AccTest,label=\"accuracy of test set\")\n",
        "plt.xlabel('k')\n",
        "plt.ylabel('accuracy')\n",
        "plt.legend()\n",
        "plt.show()"
      ],
      "execution_count": null,
      "outputs": [
        {
          "output_type": "display_data",
          "data": {
            "image/png": "[encoded data removed]",
            "text/plain": [
              "<Figure size 432x288 with 1 Axes>"
            ]
          },
          "metadata": {
            "needs_background": "light"
          }
        }
      ]
    },
    {
      "cell_type": "markdown",
      "metadata": {
        "id": "at12axtKJa0q"
      },
      "source": [
        "When k=3 AccTrain has the highest value 0.89, however, when k=5 AccTest has the best accuracy which is 0.81. From the plot the best value is k=5"
      ]
    },
    {
      "cell_type": "code",
      "metadata": {
        "colab": {
          "base_uri": "https://localhost:8080/"
        },
        "id": "cHoWwrWD6zi8",
        "outputId": "53d95623-b853-42d1-d498-721b6e238818"
      },
      "source": [
        "#Generate KNN model by normalized dataset\n",
        "from sklearn.neighbors import KNeighborsClassifier\n",
        "NORM_modelN3 = KNeighborsClassifier(n_neighbors=3)\n",
        "NORM_modelN3.fit(x_train_norm,y_train_Truelabel)\n",
        "#predit y_train and y_test and argmax to label\n",
        "NORM_y_train3_predlabel= NORM_modelN3.predict(x_train_norm) \n",
        "NORM_y_test3_predlabel=NORM_modelN3.predict(x_test_norm)\n",
        "\n",
        "NORM_y_train3_pred = np.argmax(NORM_y_train3_predlabel,axis=1)  \n",
        "NORM_y_test3_pred = np.argmax(NORM_y_test3_predlabel,axis=1)\n",
        "\n",
        "#Model Accuracy\n",
        "from sklearn import metrics\n",
        "ACCTrain3=metrics.accuracy_score(y_train, NORM_y_train3_pred)\n",
        "AccTest3=metrics.accuracy_score(y_test, NORM_y_test3_pred)\n",
        "print(\"Accuracy of training set:\",ACCTrain3)\n",
        "print(\"Accuracy of test set:\",AccTest3)"
      ],
      "execution_count": null,
      "outputs": [
        {
          "output_type": "stream",
          "name": "stdout",
          "text": [
            "Accuracy of training set: 0.8945686900958466\n",
            "Accuracy of test set: 0.7215189873417721\n"
          ]
        }
      ]
    },
    {
      "cell_type": "code",
      "metadata": {
        "colab": {
          "base_uri": "https://localhost:8080/"
        },
        "id": "0QpbPF3I8TXr",
        "outputId": "0a3fd15b-ce42-4901-b30e-0daa6553b3ac"
      },
      "source": [
        "#Generate KNN model by normalized dataset\n",
        "from sklearn.neighbors import KNeighborsClassifier\n",
        "NORM_modelN7 = KNeighborsClassifier(n_neighbors=7)\n",
        "NORM_modelN7.fit(x_train_norm,y_train_Truelabel)\n",
        "#predit y_train and y_test and argmax to label\n",
        "NORM_y_train7_predlabel= NORM_modelN7.predict(x_train_norm) \n",
        "NORM_y_test7_predlabel=NORM_modelN7.predict(x_test_norm)\n",
        "\n",
        "NORM_y_train7_pred = np.argmax(NORM_y_train7_predlabel,axis=1)  \n",
        "NORM_y_test7_pred = np.argmax(NORM_y_test7_predlabel,axis=1)\n",
        "\n",
        "#Model Accuracy\n",
        "from sklearn import metrics\n",
        "ACCTrain7=metrics.accuracy_score(y_train, NORM_y_train7_pred)\n",
        "AccTest7=metrics.accuracy_score(y_test, NORM_y_test7_pred)\n",
        "print(\"Accuracy of training set:\",ACCTrain7)\n",
        "print(\"Accuracy of test set:\",AccTest7)"
      ],
      "execution_count": null,
      "outputs": [
        {
          "output_type": "stream",
          "name": "stdout",
          "text": [
            "Accuracy of training set: 0.805111821086262\n",
            "Accuracy of test set: 0.759493670886076\n"
          ]
        }
      ]
    },
    {
      "cell_type": "code",
      "metadata": {
        "colab": {
          "base_uri": "https://localhost:8080/"
        },
        "id": "kPBSZlwx8ffT",
        "outputId": "8e6edd5e-50d5-4595-f62a-9dcad14416ed"
      },
      "source": [
        "#Generate KNN model by normalized dataset\n",
        "from sklearn.neighbors import KNeighborsClassifier\n",
        "NORM_modelN9 = KNeighborsClassifier(n_neighbors=9)\n",
        "NORM_modelN9.fit(x_train_norm,y_train_Truelabel)\n",
        "#predit y_train and y_test and argmax to label\n",
        "NORM_y_train9_predlabel= NORM_modelN9.predict(x_train_norm) \n",
        "NORM_y_test9_predlabel=NORM_modelN9.predict(x_test_norm)\n",
        "\n",
        "NORM_y_train9_pred = np.argmax(NORM_y_train9_predlabel,axis=1)  \n",
        "NORM_y_test9_pred = np.argmax(NORM_y_test9_predlabel,axis=1)\n",
        "\n",
        "#Model Accuracy\n",
        "from sklearn import metrics\n",
        "ACCTrain9=metrics.accuracy_score(y_train, NORM_y_train9_pred)\n",
        "AccTest9=metrics.accuracy_score(y_test, NORM_y_test9_pred)\n",
        "print(\"Accuracy of training set:\",ACCTrain9)\n",
        "print(\"Accuracy of test set:\",AccTest9)"
      ],
      "execution_count": null,
      "outputs": [
        {
          "output_type": "stream",
          "name": "stdout",
          "text": [
            "Accuracy of training set: 0.792332268370607\n",
            "Accuracy of test set: 0.7848101265822784\n"
          ]
        }
      ]
    },
    {
      "cell_type": "code",
      "metadata": {
        "colab": {
          "base_uri": "https://localhost:8080/"
        },
        "id": "5aOaRnL38vkx",
        "outputId": "f715fcad-2364-43fc-fb82-5f8929d9247e"
      },
      "source": [
        "#Generate KNN model by normalized dataset\n",
        "from sklearn.neighbors import KNeighborsClassifier\n",
        "NORM_modelN11 = KNeighborsClassifier(n_neighbors=11)\n",
        "NORM_modelN11.fit(x_train_norm,y_train_Truelabel)\n",
        "#predit y_train and y_test and argmax to label\n",
        "NORM_y_train11_predlabel= NORM_modelN11.predict(x_train_norm) \n",
        "NORM_y_test11_predlabel=NORM_modelN11.predict(x_test_norm)\n",
        "\n",
        "NORM_y_train11_pred = np.argmax(NORM_y_train11_predlabel,axis=1)  \n",
        "NORM_y_test11_pred = np.argmax(NORM_y_test11_predlabel,axis=1)\n",
        "\n",
        "#Model Accuracy\n",
        "ACCTrain11=metrics.accuracy_score(y_train, NORM_y_train11_pred)\n",
        "AccTest11=metrics.accuracy_score(y_test, NORM_y_test11_pred)\n",
        "print(\"Accuracy of training set:\",ACCTrain11)\n",
        "print(\"Accuracy of test set:\",AccTest11)"
      ],
      "execution_count": null,
      "outputs": [
        {
          "output_type": "stream",
          "name": "stdout",
          "text": [
            "Accuracy of training set: 0.7859424920127795\n",
            "Accuracy of test set: 0.7215189873417721\n"
          ]
        }
      ]
    },
    {
      "cell_type": "code",
      "metadata": {
        "colab": {
          "base_uri": "https://localhost:8080/"
        },
        "id": "o6C3q1rN9rSr",
        "outputId": "3ac4b799-78d8-44f8-9fdf-6b5609e35246"
      },
      "source": [
        "#Generate KNN model by normalized dataset\n",
        "from sklearn.neighbors import KNeighborsClassifier\n",
        "NORM_modelN13 = KNeighborsClassifier(n_neighbors=13)\n",
        "NORM_modelN13.fit(x_train_norm,y_train_Truelabel)\n",
        "#predit y_train and y_test and argmax to label\n",
        "NORM_y_train13_predlabel= NORM_modelN13.predict(x_train_norm) \n",
        "NORM_y_test13_predlabel=NORM_modelN13.predict(x_test_norm)\n",
        "\n",
        "NORM_y_train13_pred = np.argmax(NORM_y_train13_predlabel,axis=1)  \n",
        "NORM_y_test13_pred = np.argmax(NORM_y_test13_predlabel,axis=1)\n",
        "\n",
        "#Model Accuracy\n",
        "ACCTrain13=metrics.accuracy_score(y_train, NORM_y_train13_pred)\n",
        "AccTest13=metrics.accuracy_score(y_test, NORM_y_test13_pred)\n",
        "print(\"Accuracy of training set:\",ACCTrain13)\n",
        "print(\"Accuracy of test set:\",AccTest13)"
      ],
      "execution_count": null,
      "outputs": [
        {
          "output_type": "stream",
          "name": "stdout",
          "text": [
            "Accuracy of training set: 0.7763578274760383\n",
            "Accuracy of test set: 0.7215189873417721\n"
          ]
        }
      ]
    },
    {
      "cell_type": "code",
      "metadata": {
        "colab": {
          "base_uri": "https://localhost:8080/"
        },
        "id": "5C-IYY6_92Rp",
        "outputId": "fefa87ea-f464-4700-9f8d-560e0272c0b8"
      },
      "source": [
        "#Generate KNN model by normalized dataset\n",
        "from sklearn.neighbors import KNeighborsClassifier\n",
        "NORM_modelN15 = KNeighborsClassifier(n_neighbors=15)\n",
        "NORM_modelN15.fit(x_train_norm,y_train_Truelabel)\n",
        "#predit y_train and y_test and argmax to label\n",
        "NORM_y_train15_predlabel= NORM_modelN15.predict(x_train_norm) \n",
        "NORM_y_test15_predlabel=NORM_modelN15.predict(x_test_norm)\n",
        "\n",
        "NORM_y_train15_pred = np.argmax(NORM_y_train15_predlabel,axis=1)  \n",
        "NORM_y_test15_pred = np.argmax(NORM_y_test15_predlabel,axis=1)\n",
        "\n",
        "#Model Accuracy\n",
        "ACCTrain15=metrics.accuracy_score(y_train, NORM_y_train15_pred)\n",
        "AccTest15=metrics.accuracy_score(y_test, NORM_y_test15_pred)\n",
        "print(\"Accuracy of training set:\",ACCTrain15)\n",
        "print(\"Accuracy of test set:\",AccTest15)"
      ],
      "execution_count": null,
      "outputs": [
        {
          "output_type": "stream",
          "name": "stdout",
          "text": [
            "Accuracy of training set: 0.7699680511182109\n",
            "Accuracy of test set: 0.7341772151898734\n"
          ]
        }
      ]
    },
    {
      "cell_type": "code",
      "metadata": {
        "colab": {
          "base_uri": "https://localhost:8080/"
        },
        "id": "tlaiSnln_ncm",
        "outputId": "311443a4-0003-4114-c20d-79b305975962"
      },
      "source": [
        "#Generate KNN model by normalized dataset\n",
        "from sklearn.neighbors import KNeighborsClassifier\n",
        "NORM_modelN17 = KNeighborsClassifier(n_neighbors=17)\n",
        "NORM_modelN17.fit(x_train_norm,y_train_Truelabel)\n",
        "#predit y_train and y_test and argmax to label\n",
        "NORM_y_train17_predlabel= NORM_modelN17.predict(x_train_norm) \n",
        "NORM_y_test17_predlabel=NORM_modelN17.predict(x_test_norm)\n",
        "\n",
        "NORM_y_train17_pred = np.argmax(NORM_y_train17_predlabel,axis=1)  \n",
        "NORM_y_test17_pred = np.argmax(NORM_y_test17_predlabel,axis=1)\n",
        "\n",
        "#Model Accuracy\n",
        "ACCTrain17=metrics.accuracy_score(y_train, NORM_y_train17_pred)\n",
        "AccTest17=metrics.accuracy_score(y_test, NORM_y_test17_pred)\n",
        "print(\"Accuracy of training set:\",ACCTrain17)\n",
        "print(\"Accuracy of test set:\",AccTest17)"
      ],
      "execution_count": null,
      "outputs": [
        {
          "output_type": "stream",
          "name": "stdout",
          "text": [
            "Accuracy of training set: 0.7731629392971247\n",
            "Accuracy of test set: 0.7721518987341772\n"
          ]
        }
      ]
    },
    {
      "cell_type": "code",
      "metadata": {
        "colab": {
          "base_uri": "https://localhost:8080/"
        },
        "id": "igKC6kaI_3uO",
        "outputId": "d4c5406d-ae93-411b-8565-dad5dbdc99b4"
      },
      "source": [
        "#Generate KNN model by normalized dataset\n",
        "from sklearn.neighbors import KNeighborsClassifier\n",
        "NORM_modelN19 = KNeighborsClassifier(n_neighbors=19)\n",
        "NORM_modelN19.fit(x_train_norm,y_train_Truelabel)\n",
        "#predit y_train and y_test and argmax to label\n",
        "NORM_y_train19_predlabel= NORM_modelN19.predict(x_train_norm) \n",
        "NORM_y_test19_predlabel=NORM_modelN19.predict(x_test_norm)\n",
        "\n",
        "NORM_y_train19_pred = np.argmax(NORM_y_train19_predlabel,axis=1)  \n",
        "NORM_y_test19_pred = np.argmax(NORM_y_test19_predlabel,axis=1)\n",
        "\n",
        "#Model Accuracy\n",
        "ACCTrain19=metrics.accuracy_score(y_train, NORM_y_train19_pred)\n",
        "AccTest19=metrics.accuracy_score(y_test, NORM_y_test19_pred)\n",
        "print(\"Accuracy of training set:\",ACCTrain19)\n",
        "print(\"Accuracy of test set:\",AccTest19)"
      ],
      "execution_count": null,
      "outputs": [
        {
          "output_type": "stream",
          "name": "stdout",
          "text": [
            "Accuracy of training set: 0.7667731629392971\n",
            "Accuracy of test set: 0.7341772151898734\n"
          ]
        }
      ]
    },
    {
      "cell_type": "code",
      "metadata": {
        "colab": {
          "base_uri": "https://localhost:8080/"
        },
        "id": "Pc8JC3Z2AEBb",
        "outputId": "2275e889-93ec-4e73-d152-4b94fc94aff2"
      },
      "source": [
        "#Generate KNN model by normalized dataset\n",
        "from sklearn.neighbors import KNeighborsClassifier\n",
        "NORM_modelN29 = KNeighborsClassifier(n_neighbors=29)\n",
        "NORM_modelN29.fit(x_train_norm,y_train_Truelabel)\n",
        "#predit y_train and y_test and argmax to label\n",
        "NORM_y_train29_predlabel= NORM_modelN29.predict(x_train_norm) \n",
        "NORM_y_test29_predlabel=NORM_modelN29.predict(x_test_norm)\n",
        "\n",
        "NORM_y_train29_pred = np.argmax(NORM_y_train29_predlabel,axis=1)  \n",
        "NORM_y_test29_pred = np.argmax(NORM_y_test29_predlabel,axis=1)\n",
        "\n",
        "#Model Accuracy\n",
        "ACCTrain29=metrics.accuracy_score(y_train, NORM_y_train29_pred)\n",
        "AccTest29=metrics.accuracy_score(y_test, NORM_y_test29_pred)\n",
        "print(\"Accuracy of training set:\",ACCTrain29)\n",
        "print(\"Accuracy of test set:\",AccTest29)"
      ],
      "execution_count": null,
      "outputs": [
        {
          "output_type": "stream",
          "name": "stdout",
          "text": [
            "Accuracy of training set: 0.7571884984025559\n",
            "Accuracy of test set: 0.6835443037974683\n"
          ]
        }
      ]
    },
    {
      "cell_type": "code",
      "metadata": {
        "colab": {
          "base_uri": "https://localhost:8080/"
        },
        "id": "gNIVGVeaAi4V",
        "outputId": "2880e264-6fb0-446e-97a2-778acb233c6c"
      },
      "source": [
        "#Generate KNN model by normalized dataset\n",
        "from sklearn.neighbors import KNeighborsClassifier\n",
        "NORM_modelN39 = KNeighborsClassifier(n_neighbors=39)\n",
        "NORM_modelN39.fit(x_train_norm,y_train_Truelabel)\n",
        "#predit y_train and y_test and argmax to label\n",
        "NORM_y_train39_predlabel= NORM_modelN39.predict(x_train_norm) \n",
        "NORM_y_test39_predlabel=NORM_modelN39.predict(x_test_norm)\n",
        "\n",
        "NORM_y_train39_pred = np.argmax(NORM_y_train39_predlabel,axis=1)  \n",
        "NORM_y_test39_pred = np.argmax(NORM_y_test39_predlabel,axis=1)\n",
        "\n",
        "#Model Accuracy\n",
        "ACCTrain39=metrics.accuracy_score(y_train, NORM_y_train39_pred)\n",
        "AccTest39=metrics.accuracy_score(y_test, NORM_y_test39_pred)\n",
        "print(\"Accuracy of training set:\",ACCTrain39)\n",
        "print(\"Accuracy of test set:\",AccTest39)"
      ],
      "execution_count": null,
      "outputs": [
        {
          "output_type": "stream",
          "name": "stdout",
          "text": [
            "Accuracy of training set: 0.731629392971246\n",
            "Accuracy of test set: 0.7088607594936709\n"
          ]
        }
      ]
    }
  ]
}